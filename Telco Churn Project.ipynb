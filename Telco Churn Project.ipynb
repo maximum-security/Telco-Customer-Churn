{
 "cells": [
  {
   "cell_type": "markdown",
   "id": "ee2fca6e-b583-4466-b937-492776b701da",
   "metadata": {},
   "source": [
    "# Telco Customer Churn\n",
    "\n",
    "##### Meks Egbuchunam\n",
    "\n",
    "Dataset: [Telco Customer Churn](https://www.kaggle.com/datasets/blastchar/telco-customer-churn)\n",
    "\n",
    "In this notebook, I will explore customer churn for a telecom company through an in-depth analysis of the customer attributes outlined in the dataset. Using these insights, I will build and train several machine learning models to predict which customers are likely to churn."
   ]
  },
  {
   "cell_type": "markdown",
   "id": "4c3c54f2-3557-4f20-908e-65495c10ce73",
   "metadata": {},
   "source": [
    "## Data Collection\n",
    "\n",
    "Retrieving the dataset from Kaggle"
   ]
  },
  {
   "cell_type": "code",
   "execution_count": 1,
   "id": "374ee861-f0bb-4d9b-80eb-2506c76462fd",
   "metadata": {},
   "outputs": [],
   "source": [
    "# importing the necessary tools\n",
    "\n",
    "import pandas as pd\n",
    "import numpy as np\n",
    "import matplotlib.pyplot as plt\n",
    "import seaborn as sns\n",
    "import plotly.express as px"
   ]
  },
  {
   "cell_type": "code",
   "execution_count": 2,
   "id": "a7a33123-e0ba-4652-bfba-87faf4a5d362",
   "metadata": {},
   "outputs": [
    {
     "data": {
      "text/html": [
       "<div>\n",
       "<style scoped>\n",
       "    .dataframe tbody tr th:only-of-type {\n",
       "        vertical-align: middle;\n",
       "    }\n",
       "\n",
       "    .dataframe tbody tr th {\n",
       "        vertical-align: top;\n",
       "    }\n",
       "\n",
       "    .dataframe thead th {\n",
       "        text-align: right;\n",
       "    }\n",
       "</style>\n",
       "<table border=\"1\" class=\"dataframe\">\n",
       "  <thead>\n",
       "    <tr style=\"text-align: right;\">\n",
       "      <th></th>\n",
       "      <th>customerID</th>\n",
       "      <th>gender</th>\n",
       "      <th>SeniorCitizen</th>\n",
       "      <th>Partner</th>\n",
       "      <th>Dependents</th>\n",
       "      <th>tenure</th>\n",
       "      <th>PhoneService</th>\n",
       "      <th>MultipleLines</th>\n",
       "      <th>InternetService</th>\n",
       "      <th>OnlineSecurity</th>\n",
       "      <th>...</th>\n",
       "      <th>DeviceProtection</th>\n",
       "      <th>TechSupport</th>\n",
       "      <th>StreamingTV</th>\n",
       "      <th>StreamingMovies</th>\n",
       "      <th>Contract</th>\n",
       "      <th>PaperlessBilling</th>\n",
       "      <th>PaymentMethod</th>\n",
       "      <th>MonthlyCharges</th>\n",
       "      <th>TotalCharges</th>\n",
       "      <th>Churn</th>\n",
       "    </tr>\n",
       "  </thead>\n",
       "  <tbody>\n",
       "    <tr>\n",
       "      <th>0</th>\n",
       "      <td>7590-VHVEG</td>\n",
       "      <td>Female</td>\n",
       "      <td>0</td>\n",
       "      <td>Yes</td>\n",
       "      <td>No</td>\n",
       "      <td>1</td>\n",
       "      <td>No</td>\n",
       "      <td>No phone service</td>\n",
       "      <td>DSL</td>\n",
       "      <td>No</td>\n",
       "      <td>...</td>\n",
       "      <td>No</td>\n",
       "      <td>No</td>\n",
       "      <td>No</td>\n",
       "      <td>No</td>\n",
       "      <td>Month-to-month</td>\n",
       "      <td>Yes</td>\n",
       "      <td>Electronic check</td>\n",
       "      <td>29.85</td>\n",
       "      <td>29.85</td>\n",
       "      <td>No</td>\n",
       "    </tr>\n",
       "    <tr>\n",
       "      <th>1</th>\n",
       "      <td>5575-GNVDE</td>\n",
       "      <td>Male</td>\n",
       "      <td>0</td>\n",
       "      <td>No</td>\n",
       "      <td>No</td>\n",
       "      <td>34</td>\n",
       "      <td>Yes</td>\n",
       "      <td>No</td>\n",
       "      <td>DSL</td>\n",
       "      <td>Yes</td>\n",
       "      <td>...</td>\n",
       "      <td>Yes</td>\n",
       "      <td>No</td>\n",
       "      <td>No</td>\n",
       "      <td>No</td>\n",
       "      <td>One year</td>\n",
       "      <td>No</td>\n",
       "      <td>Mailed check</td>\n",
       "      <td>56.95</td>\n",
       "      <td>1889.5</td>\n",
       "      <td>No</td>\n",
       "    </tr>\n",
       "    <tr>\n",
       "      <th>2</th>\n",
       "      <td>3668-QPYBK</td>\n",
       "      <td>Male</td>\n",
       "      <td>0</td>\n",
       "      <td>No</td>\n",
       "      <td>No</td>\n",
       "      <td>2</td>\n",
       "      <td>Yes</td>\n",
       "      <td>No</td>\n",
       "      <td>DSL</td>\n",
       "      <td>Yes</td>\n",
       "      <td>...</td>\n",
       "      <td>No</td>\n",
       "      <td>No</td>\n",
       "      <td>No</td>\n",
       "      <td>No</td>\n",
       "      <td>Month-to-month</td>\n",
       "      <td>Yes</td>\n",
       "      <td>Mailed check</td>\n",
       "      <td>53.85</td>\n",
       "      <td>108.15</td>\n",
       "      <td>Yes</td>\n",
       "    </tr>\n",
       "    <tr>\n",
       "      <th>3</th>\n",
       "      <td>7795-CFOCW</td>\n",
       "      <td>Male</td>\n",
       "      <td>0</td>\n",
       "      <td>No</td>\n",
       "      <td>No</td>\n",
       "      <td>45</td>\n",
       "      <td>No</td>\n",
       "      <td>No phone service</td>\n",
       "      <td>DSL</td>\n",
       "      <td>Yes</td>\n",
       "      <td>...</td>\n",
       "      <td>Yes</td>\n",
       "      <td>Yes</td>\n",
       "      <td>No</td>\n",
       "      <td>No</td>\n",
       "      <td>One year</td>\n",
       "      <td>No</td>\n",
       "      <td>Bank transfer (automatic)</td>\n",
       "      <td>42.30</td>\n",
       "      <td>1840.75</td>\n",
       "      <td>No</td>\n",
       "    </tr>\n",
       "    <tr>\n",
       "      <th>4</th>\n",
       "      <td>9237-HQITU</td>\n",
       "      <td>Female</td>\n",
       "      <td>0</td>\n",
       "      <td>No</td>\n",
       "      <td>No</td>\n",
       "      <td>2</td>\n",
       "      <td>Yes</td>\n",
       "      <td>No</td>\n",
       "      <td>Fiber optic</td>\n",
       "      <td>No</td>\n",
       "      <td>...</td>\n",
       "      <td>No</td>\n",
       "      <td>No</td>\n",
       "      <td>No</td>\n",
       "      <td>No</td>\n",
       "      <td>Month-to-month</td>\n",
       "      <td>Yes</td>\n",
       "      <td>Electronic check</td>\n",
       "      <td>70.70</td>\n",
       "      <td>151.65</td>\n",
       "      <td>Yes</td>\n",
       "    </tr>\n",
       "  </tbody>\n",
       "</table>\n",
       "<p>5 rows × 21 columns</p>\n",
       "</div>"
      ],
      "text/plain": [
       "   customerID  gender  SeniorCitizen Partner Dependents  tenure PhoneService  \\\n",
       "0  7590-VHVEG  Female              0     Yes         No       1           No   \n",
       "1  5575-GNVDE    Male              0      No         No      34          Yes   \n",
       "2  3668-QPYBK    Male              0      No         No       2          Yes   \n",
       "3  7795-CFOCW    Male              0      No         No      45           No   \n",
       "4  9237-HQITU  Female              0      No         No       2          Yes   \n",
       "\n",
       "      MultipleLines InternetService OnlineSecurity  ... DeviceProtection  \\\n",
       "0  No phone service             DSL             No  ...               No   \n",
       "1                No             DSL            Yes  ...              Yes   \n",
       "2                No             DSL            Yes  ...               No   \n",
       "3  No phone service             DSL            Yes  ...              Yes   \n",
       "4                No     Fiber optic             No  ...               No   \n",
       "\n",
       "  TechSupport StreamingTV StreamingMovies        Contract PaperlessBilling  \\\n",
       "0          No          No              No  Month-to-month              Yes   \n",
       "1          No          No              No        One year               No   \n",
       "2          No          No              No  Month-to-month              Yes   \n",
       "3         Yes          No              No        One year               No   \n",
       "4          No          No              No  Month-to-month              Yes   \n",
       "\n",
       "               PaymentMethod MonthlyCharges  TotalCharges Churn  \n",
       "0           Electronic check          29.85         29.85    No  \n",
       "1               Mailed check          56.95        1889.5    No  \n",
       "2               Mailed check          53.85        108.15   Yes  \n",
       "3  Bank transfer (automatic)          42.30       1840.75    No  \n",
       "4           Electronic check          70.70        151.65   Yes  \n",
       "\n",
       "[5 rows x 21 columns]"
      ]
     },
     "execution_count": 2,
     "metadata": {},
     "output_type": "execute_result"
    }
   ],
   "source": [
    "# Loading the csv file\n",
    "\n",
    "df = pd.read_csv(\"D:/DS Projects/Churn (Telco)/Dataset/WA_Fn-UseC_-Telco-Customer-Churn.csv\")\n",
    "\n",
    "clone_df = df.copy()\n",
    "\n",
    "clone_df.head()"
   ]
  },
  {
   "cell_type": "markdown",
   "id": "5bb4a1b7-9f56-4e8a-8c67-ce0e183f17e7",
   "metadata": {},
   "source": [
    "------------------"
   ]
  },
  {
   "cell_type": "markdown",
   "id": "4ba65473-80ea-4c8f-b067-f30007cce833",
   "metadata": {},
   "source": [
    "## Data Cleaning/Preprocessing"
   ]
  },
  {
   "cell_type": "code",
   "execution_count": 3,
   "id": "fc63cfe9-3c62-44df-9c13-a1522aa6d31a",
   "metadata": {},
   "outputs": [
    {
     "name": "stdout",
     "output_type": "stream",
     "text": [
      "<class 'pandas.core.frame.DataFrame'>\n",
      "RangeIndex: 7043 entries, 0 to 7042\n",
      "Data columns (total 21 columns):\n",
      " #   Column            Non-Null Count  Dtype  \n",
      "---  ------            --------------  -----  \n",
      " 0   customerID        7043 non-null   object \n",
      " 1   gender            7043 non-null   object \n",
      " 2   SeniorCitizen     7043 non-null   int64  \n",
      " 3   Partner           7043 non-null   object \n",
      " 4   Dependents        7043 non-null   object \n",
      " 5   tenure            7043 non-null   int64  \n",
      " 6   PhoneService      7043 non-null   object \n",
      " 7   MultipleLines     7043 non-null   object \n",
      " 8   InternetService   7043 non-null   object \n",
      " 9   OnlineSecurity    7043 non-null   object \n",
      " 10  OnlineBackup      7043 non-null   object \n",
      " 11  DeviceProtection  7043 non-null   object \n",
      " 12  TechSupport       7043 non-null   object \n",
      " 13  StreamingTV       7043 non-null   object \n",
      " 14  StreamingMovies   7043 non-null   object \n",
      " 15  Contract          7043 non-null   object \n",
      " 16  PaperlessBilling  7043 non-null   object \n",
      " 17  PaymentMethod     7043 non-null   object \n",
      " 18  MonthlyCharges    7043 non-null   float64\n",
      " 19  TotalCharges      7043 non-null   object \n",
      " 20  Churn             7043 non-null   object \n",
      "dtypes: float64(1), int64(2), object(18)\n",
      "memory usage: 1.1+ MB\n"
     ]
    }
   ],
   "source": [
    "clone_df.info()"
   ]
  },
  {
   "cell_type": "markdown",
   "id": "d361ebbd-1477-4867-91ec-b5f0d2721e7c",
   "metadata": {},
   "source": [
    "There are many \"object\" columns, so I will be scanning through each column to make sure the data type is consistent."
   ]
  },
  {
   "cell_type": "code",
   "execution_count": 4,
   "id": "bb9c0192-7405-4b84-9739-357a04955f36",
   "metadata": {},
   "outputs": [
    {
     "name": "stdout",
     "output_type": "stream",
     "text": [
      "column: customerID\n",
      "['7590-VHVEG' '5575-GNVDE' '3668-QPYBK' ... '4801-JZAZL' '8361-LTMKD'\n",
      " '3186-AJIEK']\n",
      "----------------------------------------\n",
      "column: gender\n",
      "['Female' 'Male']\n",
      "----------------------------------------\n",
      "column: Partner\n",
      "['Yes' 'No']\n",
      "----------------------------------------\n",
      "column: Dependents\n",
      "['No' 'Yes']\n",
      "----------------------------------------\n",
      "column: PhoneService\n",
      "['No' 'Yes']\n",
      "----------------------------------------\n",
      "column: MultipleLines\n",
      "['No phone service' 'No' 'Yes']\n",
      "----------------------------------------\n",
      "column: InternetService\n",
      "['DSL' 'Fiber optic' 'No']\n",
      "----------------------------------------\n",
      "column: OnlineSecurity\n",
      "['No' 'Yes' 'No internet service']\n",
      "----------------------------------------\n",
      "column: OnlineBackup\n",
      "['Yes' 'No' 'No internet service']\n",
      "----------------------------------------\n",
      "column: DeviceProtection\n",
      "['No' 'Yes' 'No internet service']\n",
      "----------------------------------------\n",
      "column: TechSupport\n",
      "['No' 'Yes' 'No internet service']\n",
      "----------------------------------------\n",
      "column: StreamingTV\n",
      "['No' 'Yes' 'No internet service']\n",
      "----------------------------------------\n",
      "column: StreamingMovies\n",
      "['No' 'Yes' 'No internet service']\n",
      "----------------------------------------\n",
      "column: Contract\n",
      "['Month-to-month' 'One year' 'Two year']\n",
      "----------------------------------------\n",
      "column: PaperlessBilling\n",
      "['Yes' 'No']\n",
      "----------------------------------------\n",
      "column: PaymentMethod\n",
      "['Electronic check' 'Mailed check' 'Bank transfer (automatic)'\n",
      " 'Credit card (automatic)']\n",
      "----------------------------------------\n",
      "column: TotalCharges\n",
      "['29.85' '1889.5' '108.15' ... '346.45' '306.6' '6844.5']\n",
      "----------------------------------------\n",
      "column: Churn\n",
      "['No' 'Yes']\n",
      "----------------------------------------\n"
     ]
    }
   ],
   "source": [
    "for col in clone_df.select_dtypes(include = 'object').columns:\n",
    "    print(f\"column: {col}\")\n",
    "    print(clone_df[col].unique())\n",
    "    print(\"-\" * 40)"
   ]
  },
  {
   "cell_type": "markdown",
   "id": "529d1b40-714c-44a8-88e5-359bad63e7a5",
   "metadata": {},
   "source": [
    "'TotalCharges' is listed as an object column even though it has numbers in it which may suggest missing values or empty strings"
   ]
  },
  {
   "cell_type": "code",
   "execution_count": 5,
   "id": "92a7961a-f0d3-423e-93d2-de3a49f7e785",
   "metadata": {},
   "outputs": [],
   "source": [
    "# Converting the column to a numerical one\n",
    "\n",
    "clone_df[\"TotalCharges\"] = pd.to_numeric(clone_df[\"TotalCharges\"], errors=\"coerce\")\n"
   ]
  },
  {
   "cell_type": "code",
   "execution_count": 6,
   "id": "38d415fb-2a69-40b8-bab1-1ca122a06c92",
   "metadata": {},
   "outputs": [
    {
     "data": {
      "text/plain": [
       "11"
      ]
     },
     "execution_count": 6,
     "metadata": {},
     "output_type": "execute_result"
    }
   ],
   "source": [
    "# Checking for missing value or empty strings in the 'TotalCharges' column\n",
    "\n",
    "clone_df[\"TotalCharges\"].isna().sum()"
   ]
  },
  {
   "cell_type": "code",
   "execution_count": 7,
   "id": "b66d2e63-5c7b-44e4-9943-667bb7cf2a9c",
   "metadata": {},
   "outputs": [
    {
     "data": {
      "text/html": [
       "<div>\n",
       "<style scoped>\n",
       "    .dataframe tbody tr th:only-of-type {\n",
       "        vertical-align: middle;\n",
       "    }\n",
       "\n",
       "    .dataframe tbody tr th {\n",
       "        vertical-align: top;\n",
       "    }\n",
       "\n",
       "    .dataframe thead th {\n",
       "        text-align: right;\n",
       "    }\n",
       "</style>\n",
       "<table border=\"1\" class=\"dataframe\">\n",
       "  <thead>\n",
       "    <tr style=\"text-align: right;\">\n",
       "      <th></th>\n",
       "      <th>customerID</th>\n",
       "      <th>gender</th>\n",
       "      <th>SeniorCitizen</th>\n",
       "      <th>Partner</th>\n",
       "      <th>Dependents</th>\n",
       "      <th>tenure</th>\n",
       "      <th>PhoneService</th>\n",
       "      <th>MultipleLines</th>\n",
       "      <th>InternetService</th>\n",
       "      <th>OnlineSecurity</th>\n",
       "      <th>...</th>\n",
       "      <th>DeviceProtection</th>\n",
       "      <th>TechSupport</th>\n",
       "      <th>StreamingTV</th>\n",
       "      <th>StreamingMovies</th>\n",
       "      <th>Contract</th>\n",
       "      <th>PaperlessBilling</th>\n",
       "      <th>PaymentMethod</th>\n",
       "      <th>MonthlyCharges</th>\n",
       "      <th>TotalCharges</th>\n",
       "      <th>Churn</th>\n",
       "    </tr>\n",
       "  </thead>\n",
       "  <tbody>\n",
       "    <tr>\n",
       "      <th>488</th>\n",
       "      <td>4472-LVYGI</td>\n",
       "      <td>Female</td>\n",
       "      <td>0</td>\n",
       "      <td>Yes</td>\n",
       "      <td>Yes</td>\n",
       "      <td>0</td>\n",
       "      <td>No</td>\n",
       "      <td>No phone service</td>\n",
       "      <td>DSL</td>\n",
       "      <td>Yes</td>\n",
       "      <td>...</td>\n",
       "      <td>Yes</td>\n",
       "      <td>Yes</td>\n",
       "      <td>Yes</td>\n",
       "      <td>No</td>\n",
       "      <td>Two year</td>\n",
       "      <td>Yes</td>\n",
       "      <td>Bank transfer (automatic)</td>\n",
       "      <td>52.55</td>\n",
       "      <td>NaN</td>\n",
       "      <td>No</td>\n",
       "    </tr>\n",
       "    <tr>\n",
       "      <th>753</th>\n",
       "      <td>3115-CZMZD</td>\n",
       "      <td>Male</td>\n",
       "      <td>0</td>\n",
       "      <td>No</td>\n",
       "      <td>Yes</td>\n",
       "      <td>0</td>\n",
       "      <td>Yes</td>\n",
       "      <td>No</td>\n",
       "      <td>No</td>\n",
       "      <td>No internet service</td>\n",
       "      <td>...</td>\n",
       "      <td>No internet service</td>\n",
       "      <td>No internet service</td>\n",
       "      <td>No internet service</td>\n",
       "      <td>No internet service</td>\n",
       "      <td>Two year</td>\n",
       "      <td>No</td>\n",
       "      <td>Mailed check</td>\n",
       "      <td>20.25</td>\n",
       "      <td>NaN</td>\n",
       "      <td>No</td>\n",
       "    </tr>\n",
       "    <tr>\n",
       "      <th>936</th>\n",
       "      <td>5709-LVOEQ</td>\n",
       "      <td>Female</td>\n",
       "      <td>0</td>\n",
       "      <td>Yes</td>\n",
       "      <td>Yes</td>\n",
       "      <td>0</td>\n",
       "      <td>Yes</td>\n",
       "      <td>No</td>\n",
       "      <td>DSL</td>\n",
       "      <td>Yes</td>\n",
       "      <td>...</td>\n",
       "      <td>Yes</td>\n",
       "      <td>No</td>\n",
       "      <td>Yes</td>\n",
       "      <td>Yes</td>\n",
       "      <td>Two year</td>\n",
       "      <td>No</td>\n",
       "      <td>Mailed check</td>\n",
       "      <td>80.85</td>\n",
       "      <td>NaN</td>\n",
       "      <td>No</td>\n",
       "    </tr>\n",
       "    <tr>\n",
       "      <th>1082</th>\n",
       "      <td>4367-NUYAO</td>\n",
       "      <td>Male</td>\n",
       "      <td>0</td>\n",
       "      <td>Yes</td>\n",
       "      <td>Yes</td>\n",
       "      <td>0</td>\n",
       "      <td>Yes</td>\n",
       "      <td>Yes</td>\n",
       "      <td>No</td>\n",
       "      <td>No internet service</td>\n",
       "      <td>...</td>\n",
       "      <td>No internet service</td>\n",
       "      <td>No internet service</td>\n",
       "      <td>No internet service</td>\n",
       "      <td>No internet service</td>\n",
       "      <td>Two year</td>\n",
       "      <td>No</td>\n",
       "      <td>Mailed check</td>\n",
       "      <td>25.75</td>\n",
       "      <td>NaN</td>\n",
       "      <td>No</td>\n",
       "    </tr>\n",
       "    <tr>\n",
       "      <th>1340</th>\n",
       "      <td>1371-DWPAZ</td>\n",
       "      <td>Female</td>\n",
       "      <td>0</td>\n",
       "      <td>Yes</td>\n",
       "      <td>Yes</td>\n",
       "      <td>0</td>\n",
       "      <td>No</td>\n",
       "      <td>No phone service</td>\n",
       "      <td>DSL</td>\n",
       "      <td>Yes</td>\n",
       "      <td>...</td>\n",
       "      <td>Yes</td>\n",
       "      <td>Yes</td>\n",
       "      <td>Yes</td>\n",
       "      <td>No</td>\n",
       "      <td>Two year</td>\n",
       "      <td>No</td>\n",
       "      <td>Credit card (automatic)</td>\n",
       "      <td>56.05</td>\n",
       "      <td>NaN</td>\n",
       "      <td>No</td>\n",
       "    </tr>\n",
       "    <tr>\n",
       "      <th>3331</th>\n",
       "      <td>7644-OMVMY</td>\n",
       "      <td>Male</td>\n",
       "      <td>0</td>\n",
       "      <td>Yes</td>\n",
       "      <td>Yes</td>\n",
       "      <td>0</td>\n",
       "      <td>Yes</td>\n",
       "      <td>No</td>\n",
       "      <td>No</td>\n",
       "      <td>No internet service</td>\n",
       "      <td>...</td>\n",
       "      <td>No internet service</td>\n",
       "      <td>No internet service</td>\n",
       "      <td>No internet service</td>\n",
       "      <td>No internet service</td>\n",
       "      <td>Two year</td>\n",
       "      <td>No</td>\n",
       "      <td>Mailed check</td>\n",
       "      <td>19.85</td>\n",
       "      <td>NaN</td>\n",
       "      <td>No</td>\n",
       "    </tr>\n",
       "    <tr>\n",
       "      <th>3826</th>\n",
       "      <td>3213-VVOLG</td>\n",
       "      <td>Male</td>\n",
       "      <td>0</td>\n",
       "      <td>Yes</td>\n",
       "      <td>Yes</td>\n",
       "      <td>0</td>\n",
       "      <td>Yes</td>\n",
       "      <td>Yes</td>\n",
       "      <td>No</td>\n",
       "      <td>No internet service</td>\n",
       "      <td>...</td>\n",
       "      <td>No internet service</td>\n",
       "      <td>No internet service</td>\n",
       "      <td>No internet service</td>\n",
       "      <td>No internet service</td>\n",
       "      <td>Two year</td>\n",
       "      <td>No</td>\n",
       "      <td>Mailed check</td>\n",
       "      <td>25.35</td>\n",
       "      <td>NaN</td>\n",
       "      <td>No</td>\n",
       "    </tr>\n",
       "    <tr>\n",
       "      <th>4380</th>\n",
       "      <td>2520-SGTTA</td>\n",
       "      <td>Female</td>\n",
       "      <td>0</td>\n",
       "      <td>Yes</td>\n",
       "      <td>Yes</td>\n",
       "      <td>0</td>\n",
       "      <td>Yes</td>\n",
       "      <td>No</td>\n",
       "      <td>No</td>\n",
       "      <td>No internet service</td>\n",
       "      <td>...</td>\n",
       "      <td>No internet service</td>\n",
       "      <td>No internet service</td>\n",
       "      <td>No internet service</td>\n",
       "      <td>No internet service</td>\n",
       "      <td>Two year</td>\n",
       "      <td>No</td>\n",
       "      <td>Mailed check</td>\n",
       "      <td>20.00</td>\n",
       "      <td>NaN</td>\n",
       "      <td>No</td>\n",
       "    </tr>\n",
       "    <tr>\n",
       "      <th>5218</th>\n",
       "      <td>2923-ARZLG</td>\n",
       "      <td>Male</td>\n",
       "      <td>0</td>\n",
       "      <td>Yes</td>\n",
       "      <td>Yes</td>\n",
       "      <td>0</td>\n",
       "      <td>Yes</td>\n",
       "      <td>No</td>\n",
       "      <td>No</td>\n",
       "      <td>No internet service</td>\n",
       "      <td>...</td>\n",
       "      <td>No internet service</td>\n",
       "      <td>No internet service</td>\n",
       "      <td>No internet service</td>\n",
       "      <td>No internet service</td>\n",
       "      <td>One year</td>\n",
       "      <td>Yes</td>\n",
       "      <td>Mailed check</td>\n",
       "      <td>19.70</td>\n",
       "      <td>NaN</td>\n",
       "      <td>No</td>\n",
       "    </tr>\n",
       "    <tr>\n",
       "      <th>6670</th>\n",
       "      <td>4075-WKNIU</td>\n",
       "      <td>Female</td>\n",
       "      <td>0</td>\n",
       "      <td>Yes</td>\n",
       "      <td>Yes</td>\n",
       "      <td>0</td>\n",
       "      <td>Yes</td>\n",
       "      <td>Yes</td>\n",
       "      <td>DSL</td>\n",
       "      <td>No</td>\n",
       "      <td>...</td>\n",
       "      <td>Yes</td>\n",
       "      <td>Yes</td>\n",
       "      <td>Yes</td>\n",
       "      <td>No</td>\n",
       "      <td>Two year</td>\n",
       "      <td>No</td>\n",
       "      <td>Mailed check</td>\n",
       "      <td>73.35</td>\n",
       "      <td>NaN</td>\n",
       "      <td>No</td>\n",
       "    </tr>\n",
       "    <tr>\n",
       "      <th>6754</th>\n",
       "      <td>2775-SEFEE</td>\n",
       "      <td>Male</td>\n",
       "      <td>0</td>\n",
       "      <td>No</td>\n",
       "      <td>Yes</td>\n",
       "      <td>0</td>\n",
       "      <td>Yes</td>\n",
       "      <td>Yes</td>\n",
       "      <td>DSL</td>\n",
       "      <td>Yes</td>\n",
       "      <td>...</td>\n",
       "      <td>No</td>\n",
       "      <td>Yes</td>\n",
       "      <td>No</td>\n",
       "      <td>No</td>\n",
       "      <td>Two year</td>\n",
       "      <td>Yes</td>\n",
       "      <td>Bank transfer (automatic)</td>\n",
       "      <td>61.90</td>\n",
       "      <td>NaN</td>\n",
       "      <td>No</td>\n",
       "    </tr>\n",
       "  </tbody>\n",
       "</table>\n",
       "<p>11 rows × 21 columns</p>\n",
       "</div>"
      ],
      "text/plain": [
       "      customerID  gender  SeniorCitizen Partner Dependents  tenure  \\\n",
       "488   4472-LVYGI  Female              0     Yes        Yes       0   \n",
       "753   3115-CZMZD    Male              0      No        Yes       0   \n",
       "936   5709-LVOEQ  Female              0     Yes        Yes       0   \n",
       "1082  4367-NUYAO    Male              0     Yes        Yes       0   \n",
       "1340  1371-DWPAZ  Female              0     Yes        Yes       0   \n",
       "3331  7644-OMVMY    Male              0     Yes        Yes       0   \n",
       "3826  3213-VVOLG    Male              0     Yes        Yes       0   \n",
       "4380  2520-SGTTA  Female              0     Yes        Yes       0   \n",
       "5218  2923-ARZLG    Male              0     Yes        Yes       0   \n",
       "6670  4075-WKNIU  Female              0     Yes        Yes       0   \n",
       "6754  2775-SEFEE    Male              0      No        Yes       0   \n",
       "\n",
       "     PhoneService     MultipleLines InternetService       OnlineSecurity  ...  \\\n",
       "488            No  No phone service             DSL                  Yes  ...   \n",
       "753           Yes                No              No  No internet service  ...   \n",
       "936           Yes                No             DSL                  Yes  ...   \n",
       "1082          Yes               Yes              No  No internet service  ...   \n",
       "1340           No  No phone service             DSL                  Yes  ...   \n",
       "3331          Yes                No              No  No internet service  ...   \n",
       "3826          Yes               Yes              No  No internet service  ...   \n",
       "4380          Yes                No              No  No internet service  ...   \n",
       "5218          Yes                No              No  No internet service  ...   \n",
       "6670          Yes               Yes             DSL                   No  ...   \n",
       "6754          Yes               Yes             DSL                  Yes  ...   \n",
       "\n",
       "         DeviceProtection          TechSupport          StreamingTV  \\\n",
       "488                   Yes                  Yes                  Yes   \n",
       "753   No internet service  No internet service  No internet service   \n",
       "936                   Yes                   No                  Yes   \n",
       "1082  No internet service  No internet service  No internet service   \n",
       "1340                  Yes                  Yes                  Yes   \n",
       "3331  No internet service  No internet service  No internet service   \n",
       "3826  No internet service  No internet service  No internet service   \n",
       "4380  No internet service  No internet service  No internet service   \n",
       "5218  No internet service  No internet service  No internet service   \n",
       "6670                  Yes                  Yes                  Yes   \n",
       "6754                   No                  Yes                   No   \n",
       "\n",
       "          StreamingMovies  Contract PaperlessBilling  \\\n",
       "488                    No  Two year              Yes   \n",
       "753   No internet service  Two year               No   \n",
       "936                   Yes  Two year               No   \n",
       "1082  No internet service  Two year               No   \n",
       "1340                   No  Two year               No   \n",
       "3331  No internet service  Two year               No   \n",
       "3826  No internet service  Two year               No   \n",
       "4380  No internet service  Two year               No   \n",
       "5218  No internet service  One year              Yes   \n",
       "6670                   No  Two year               No   \n",
       "6754                   No  Two year              Yes   \n",
       "\n",
       "                  PaymentMethod MonthlyCharges  TotalCharges  Churn  \n",
       "488   Bank transfer (automatic)          52.55           NaN     No  \n",
       "753                Mailed check          20.25           NaN     No  \n",
       "936                Mailed check          80.85           NaN     No  \n",
       "1082               Mailed check          25.75           NaN     No  \n",
       "1340    Credit card (automatic)          56.05           NaN     No  \n",
       "3331               Mailed check          19.85           NaN     No  \n",
       "3826               Mailed check          25.35           NaN     No  \n",
       "4380               Mailed check          20.00           NaN     No  \n",
       "5218               Mailed check          19.70           NaN     No  \n",
       "6670               Mailed check          73.35           NaN     No  \n",
       "6754  Bank transfer (automatic)          61.90           NaN     No  \n",
       "\n",
       "[11 rows x 21 columns]"
      ]
     },
     "execution_count": 7,
     "metadata": {},
     "output_type": "execute_result"
    }
   ],
   "source": [
    "# checking for any values of '0' in the 'tenure' column, as that may explain some empty strings in the 'TotalCharges' columns\n",
    "\n",
    "clone_df[clone_df[\"tenure\"] == 0]\n"
   ]
  },
  {
   "cell_type": "markdown",
   "id": "d5838520-2d23-4956-a183-4657205f5882",
   "metadata": {},
   "source": [
    "The number of rows where tenure = 0 matches the number of NaN values in the 'TotalCharges' column. This suggests that these customers have no total charges recorded because they haven’t been with the company for at least a month. Since the dataset is large, dropping these 11 unfilled rows will not significantly affect the results, and replacing them with the mean or median would not accurately reflect the context of the data."
   ]
  },
  {
   "cell_type": "code",
   "execution_count": 8,
   "id": "4c8f8a47-6db2-4121-a7f0-cfa5537762f9",
   "metadata": {},
   "outputs": [],
   "source": [
    "# I could replace the NaN values with 0, but I would rather avoid any unnecessary data skews.\n",
    "\n",
    "clone_df = clone_df.dropna(subset = [\"TotalCharges\"])"
   ]
  },
  {
   "cell_type": "code",
   "execution_count": 9,
   "id": "e5784efd-7c04-46e6-ad11-a4551e748a7c",
   "metadata": {},
   "outputs": [
    {
     "name": "stdout",
     "output_type": "stream",
     "text": [
      "0\n",
      "0\n"
     ]
    }
   ],
   "source": [
    "print(clone_df[\"TotalCharges\"].isna().sum())\n",
    "print((clone_df[\"tenure\"] == 0).sum())\n",
    "\n",
    "#The output should show zeros, indicating that the columns have been dropped"
   ]
  },
  {
   "cell_type": "code",
   "execution_count": 10,
   "id": "a6a68d36-ec68-4bc4-b85d-247cc3543626",
   "metadata": {},
   "outputs": [
    {
     "name": "stdout",
     "output_type": "stream",
     "text": [
      "(7032, 21)\n"
     ]
    },
    {
     "data": {
      "text/plain": [
       "(7043, 21)"
      ]
     },
     "execution_count": 10,
     "metadata": {},
     "output_type": "execute_result"
    }
   ],
   "source": [
    "# The output should show 11 less rows in the cloned dataset now\n",
    "\n",
    "print(clone_df.shape)\n",
    "df.shape"
   ]
  },
  {
   "cell_type": "code",
   "execution_count": 11,
   "id": "49412ee0-c441-4947-bf84-7086a0960211",
   "metadata": {},
   "outputs": [],
   "source": [
    "# Dropping the 'customerID' column, as it is useless in predicting churn\n",
    "\n",
    "clone_df = clone_df.drop(\"customerID\", axis = 1)"
   ]
  },
  {
   "cell_type": "code",
   "execution_count": 12,
   "id": "991a5740-b7da-414a-9dd5-1b8cb5f99da4",
   "metadata": {},
   "outputs": [
    {
     "data": {
      "text/plain": [
       "Index(['gender', 'SeniorCitizen', 'Partner', 'Dependents', 'tenure',\n",
       "       'PhoneService', 'MultipleLines', 'InternetService', 'OnlineSecurity',\n",
       "       'OnlineBackup', 'DeviceProtection', 'TechSupport', 'StreamingTV',\n",
       "       'StreamingMovies', 'Contract', 'PaperlessBilling', 'PaymentMethod',\n",
       "       'MonthlyCharges', 'TotalCharges', 'Churn'],\n",
       "      dtype='object')"
      ]
     },
     "execution_count": 12,
     "metadata": {},
     "output_type": "execute_result"
    }
   ],
   "source": [
    "clone_df.columns\n"
   ]
  },
  {
   "cell_type": "code",
   "execution_count": 13,
   "id": "7a469448-feae-4c28-826c-69ff08b796ba",
   "metadata": {},
   "outputs": [
    {
     "data": {
      "text/plain": [
       "gender              0\n",
       "SeniorCitizen       0\n",
       "Partner             0\n",
       "Dependents          0\n",
       "tenure              0\n",
       "PhoneService        0\n",
       "MultipleLines       0\n",
       "InternetService     0\n",
       "OnlineSecurity      0\n",
       "OnlineBackup        0\n",
       "DeviceProtection    0\n",
       "TechSupport         0\n",
       "StreamingTV         0\n",
       "StreamingMovies     0\n",
       "Contract            0\n",
       "PaperlessBilling    0\n",
       "PaymentMethod       0\n",
       "MonthlyCharges      0\n",
       "TotalCharges        0\n",
       "Churn               0\n",
       "dtype: int64"
      ]
     },
     "execution_count": 13,
     "metadata": {},
     "output_type": "execute_result"
    }
   ],
   "source": [
    "clone_df.isna().sum()"
   ]
  },
  {
   "cell_type": "markdown",
   "id": "b0ae5ba5-4047-418d-868c-cdaa3af94894",
   "metadata": {},
   "source": [
    "There does not appear to be any more NaN values in the dataset"
   ]
  },
  {
   "cell_type": "markdown",
   "id": "a2280f4f-0990-468a-a941-3665d43fbf94",
   "metadata": {},
   "source": [
    "----------"
   ]
  },
  {
   "cell_type": "markdown",
   "id": "868aebc0-27b5-4de2-a0bf-303ebcb82e87",
   "metadata": {},
   "source": [
    "The 'SeniorCitizen' column is the only one already in binary format, while many of the other columns use yes/no values. I will convert those columns to binary for consistency."
   ]
  },
  {
   "cell_type": "code",
   "execution_count": 14,
   "id": "768b72bb-e3f3-4105-8760-50c3fbaa7791",
   "metadata": {},
   "outputs": [
    {
     "name": "stdout",
     "output_type": "stream",
     "text": [
      "['Partner', 'Dependents', 'PhoneService', 'MultipleLines', 'InternetService', 'OnlineSecurity', 'OnlineBackup', 'DeviceProtection', 'TechSupport', 'StreamingTV', 'StreamingMovies', 'PaperlessBilling', 'Churn']\n"
     ]
    }
   ],
   "source": [
    "# Finding Columns with \"Yes/No\" entries\n",
    "\n",
    "yes_no_cols = [col for col in clone_df.columns if \n",
    "               (\"Yes\" in clone_df[col].unique()) or (\"No\" in clone_df[col].unique())]\n",
    "\n",
    "print(yes_no_cols)\n"
   ]
  },
  {
   "cell_type": "markdown",
   "id": "4f30833e-9573-4521-b358-daeb1752be8a",
   "metadata": {},
   "source": [
    "Thirteen columns were returned in the output. However, upon reviewing the dataset, several of these columns include a third option, such as \"No phone service\" or \"No internet service\", in addition to the standard yes/no values. As a result, these columns cannot be converted into binary."
   ]
  },
  {
   "cell_type": "code",
   "execution_count": 15,
   "id": "d19c9cd7-5267-43b1-ab78-c79d715ec93a",
   "metadata": {},
   "outputs": [
    {
     "name": "stdout",
     "output_type": "stream",
     "text": [
      "['Partner', 'Dependents', 'PhoneService', 'PaperlessBilling', 'Churn']\n"
     ]
    }
   ],
   "source": [
    "# Finding the five columns with only yes/no options (no third option).\n",
    "\n",
    "yes_no_cols = [col for col in clone_df.columns \n",
    "               if set(clone_df[col].dropna().unique()).issubset({\"Yes\", \"No\"})]\n",
    "\n",
    "print(yes_no_cols)"
   ]
  },
  {
   "cell_type": "code",
   "execution_count": 16,
   "id": "4bcd418a-77b8-4f6a-9bc0-e4be8e476a8a",
   "metadata": {},
   "outputs": [
    {
     "data": {
      "text/html": [
       "<div>\n",
       "<style scoped>\n",
       "    .dataframe tbody tr th:only-of-type {\n",
       "        vertical-align: middle;\n",
       "    }\n",
       "\n",
       "    .dataframe tbody tr th {\n",
       "        vertical-align: top;\n",
       "    }\n",
       "\n",
       "    .dataframe thead th {\n",
       "        text-align: right;\n",
       "    }\n",
       "</style>\n",
       "<table border=\"1\" class=\"dataframe\">\n",
       "  <thead>\n",
       "    <tr style=\"text-align: right;\">\n",
       "      <th></th>\n",
       "      <th>gender</th>\n",
       "      <th>SeniorCitizen</th>\n",
       "      <th>Partner</th>\n",
       "      <th>Dependents</th>\n",
       "      <th>tenure</th>\n",
       "      <th>PhoneService</th>\n",
       "      <th>MultipleLines</th>\n",
       "      <th>InternetService</th>\n",
       "      <th>OnlineSecurity</th>\n",
       "      <th>OnlineBackup</th>\n",
       "      <th>DeviceProtection</th>\n",
       "      <th>TechSupport</th>\n",
       "      <th>StreamingTV</th>\n",
       "      <th>StreamingMovies</th>\n",
       "      <th>Contract</th>\n",
       "      <th>PaperlessBilling</th>\n",
       "      <th>PaymentMethod</th>\n",
       "      <th>MonthlyCharges</th>\n",
       "      <th>TotalCharges</th>\n",
       "      <th>Churn</th>\n",
       "    </tr>\n",
       "  </thead>\n",
       "  <tbody>\n",
       "    <tr>\n",
       "      <th>0</th>\n",
       "      <td>Female</td>\n",
       "      <td>0</td>\n",
       "      <td>1</td>\n",
       "      <td>0</td>\n",
       "      <td>1</td>\n",
       "      <td>0</td>\n",
       "      <td>No phone service</td>\n",
       "      <td>DSL</td>\n",
       "      <td>No</td>\n",
       "      <td>Yes</td>\n",
       "      <td>No</td>\n",
       "      <td>No</td>\n",
       "      <td>No</td>\n",
       "      <td>No</td>\n",
       "      <td>Month-to-month</td>\n",
       "      <td>1</td>\n",
       "      <td>Electronic check</td>\n",
       "      <td>29.85</td>\n",
       "      <td>29.85</td>\n",
       "      <td>0</td>\n",
       "    </tr>\n",
       "    <tr>\n",
       "      <th>1</th>\n",
       "      <td>Male</td>\n",
       "      <td>0</td>\n",
       "      <td>0</td>\n",
       "      <td>0</td>\n",
       "      <td>34</td>\n",
       "      <td>1</td>\n",
       "      <td>No</td>\n",
       "      <td>DSL</td>\n",
       "      <td>Yes</td>\n",
       "      <td>No</td>\n",
       "      <td>Yes</td>\n",
       "      <td>No</td>\n",
       "      <td>No</td>\n",
       "      <td>No</td>\n",
       "      <td>One year</td>\n",
       "      <td>0</td>\n",
       "      <td>Mailed check</td>\n",
       "      <td>56.95</td>\n",
       "      <td>1889.50</td>\n",
       "      <td>0</td>\n",
       "    </tr>\n",
       "    <tr>\n",
       "      <th>2</th>\n",
       "      <td>Male</td>\n",
       "      <td>0</td>\n",
       "      <td>0</td>\n",
       "      <td>0</td>\n",
       "      <td>2</td>\n",
       "      <td>1</td>\n",
       "      <td>No</td>\n",
       "      <td>DSL</td>\n",
       "      <td>Yes</td>\n",
       "      <td>Yes</td>\n",
       "      <td>No</td>\n",
       "      <td>No</td>\n",
       "      <td>No</td>\n",
       "      <td>No</td>\n",
       "      <td>Month-to-month</td>\n",
       "      <td>1</td>\n",
       "      <td>Mailed check</td>\n",
       "      <td>53.85</td>\n",
       "      <td>108.15</td>\n",
       "      <td>1</td>\n",
       "    </tr>\n",
       "    <tr>\n",
       "      <th>3</th>\n",
       "      <td>Male</td>\n",
       "      <td>0</td>\n",
       "      <td>0</td>\n",
       "      <td>0</td>\n",
       "      <td>45</td>\n",
       "      <td>0</td>\n",
       "      <td>No phone service</td>\n",
       "      <td>DSL</td>\n",
       "      <td>Yes</td>\n",
       "      <td>No</td>\n",
       "      <td>Yes</td>\n",
       "      <td>Yes</td>\n",
       "      <td>No</td>\n",
       "      <td>No</td>\n",
       "      <td>One year</td>\n",
       "      <td>0</td>\n",
       "      <td>Bank transfer (automatic)</td>\n",
       "      <td>42.30</td>\n",
       "      <td>1840.75</td>\n",
       "      <td>0</td>\n",
       "    </tr>\n",
       "    <tr>\n",
       "      <th>4</th>\n",
       "      <td>Female</td>\n",
       "      <td>0</td>\n",
       "      <td>0</td>\n",
       "      <td>0</td>\n",
       "      <td>2</td>\n",
       "      <td>1</td>\n",
       "      <td>No</td>\n",
       "      <td>Fiber optic</td>\n",
       "      <td>No</td>\n",
       "      <td>No</td>\n",
       "      <td>No</td>\n",
       "      <td>No</td>\n",
       "      <td>No</td>\n",
       "      <td>No</td>\n",
       "      <td>Month-to-month</td>\n",
       "      <td>1</td>\n",
       "      <td>Electronic check</td>\n",
       "      <td>70.70</td>\n",
       "      <td>151.65</td>\n",
       "      <td>1</td>\n",
       "    </tr>\n",
       "  </tbody>\n",
       "</table>\n",
       "</div>"
      ],
      "text/plain": [
       "   gender  SeniorCitizen  Partner  Dependents  tenure  PhoneService  \\\n",
       "0  Female              0        1           0       1             0   \n",
       "1    Male              0        0           0      34             1   \n",
       "2    Male              0        0           0       2             1   \n",
       "3    Male              0        0           0      45             0   \n",
       "4  Female              0        0           0       2             1   \n",
       "\n",
       "      MultipleLines InternetService OnlineSecurity OnlineBackup  \\\n",
       "0  No phone service             DSL             No          Yes   \n",
       "1                No             DSL            Yes           No   \n",
       "2                No             DSL            Yes          Yes   \n",
       "3  No phone service             DSL            Yes           No   \n",
       "4                No     Fiber optic             No           No   \n",
       "\n",
       "  DeviceProtection TechSupport StreamingTV StreamingMovies        Contract  \\\n",
       "0               No          No          No              No  Month-to-month   \n",
       "1              Yes          No          No              No        One year   \n",
       "2               No          No          No              No  Month-to-month   \n",
       "3              Yes         Yes          No              No        One year   \n",
       "4               No          No          No              No  Month-to-month   \n",
       "\n",
       "   PaperlessBilling              PaymentMethod  MonthlyCharges  TotalCharges  \\\n",
       "0                 1           Electronic check           29.85         29.85   \n",
       "1                 0               Mailed check           56.95       1889.50   \n",
       "2                 1               Mailed check           53.85        108.15   \n",
       "3                 0  Bank transfer (automatic)           42.30       1840.75   \n",
       "4                 1           Electronic check           70.70        151.65   \n",
       "\n",
       "   Churn  \n",
       "0      0  \n",
       "1      0  \n",
       "2      1  \n",
       "3      0  \n",
       "4      1  "
      ]
     },
     "execution_count": 16,
     "metadata": {},
     "output_type": "execute_result"
    }
   ],
   "source": [
    "# Converting the five columns with only yes/no options (no third option) into binary.\n",
    "\n",
    "clone_df[yes_no_cols] = clone_df[yes_no_cols].replace({\"Yes\": 1, \"No\": 0})\n",
    "\n",
    "clone_df.head()"
   ]
  },
  {
   "cell_type": "code",
   "execution_count": 17,
   "id": "a12f04c4-21ab-4b59-8fa5-bfb4b5723cb2",
   "metadata": {},
   "outputs": [
    {
     "name": "stdout",
     "output_type": "stream",
     "text": [
      "                    dtype  unique_values  num_missing\n",
      "gender             object              2            0\n",
      "SeniorCitizen       int64              2            0\n",
      "Partner             int64              2            0\n",
      "Dependents          int64              2            0\n",
      "tenure              int64             72            0\n",
      "PhoneService        int64              2            0\n",
      "MultipleLines      object              3            0\n",
      "InternetService    object              3            0\n",
      "OnlineSecurity     object              3            0\n",
      "OnlineBackup       object              3            0\n",
      "DeviceProtection   object              3            0\n",
      "TechSupport        object              3            0\n",
      "StreamingTV        object              3            0\n",
      "StreamingMovies    object              3            0\n",
      "Contract           object              3            0\n",
      "PaperlessBilling    int64              2            0\n",
      "PaymentMethod      object              4            0\n",
      "MonthlyCharges    float64           1584            0\n",
      "TotalCharges      float64           6530            0\n",
      "Churn               int64              2            0\n"
     ]
    }
   ],
   "source": [
    "scan = pd.DataFrame({\n",
    "    \"dtype\": clone_df.dtypes,\n",
    "    \"unique_values\": clone_df.nunique(),\n",
    "    \"num_missing\": clone_df.isna().sum()\n",
    "})\n",
    "\n",
    "print(scan)\n"
   ]
  },
  {
   "cell_type": "markdown",
   "id": "3cec17e7-9bba-422b-b479-303c4eebe41f",
   "metadata": {},
   "source": [
    "---------------"
   ]
  },
  {
   "cell_type": "markdown",
   "id": "3c951189-4602-447a-8586-d054d6b08809",
   "metadata": {},
   "source": [
    "## Exploratory Data Analysis (EDA)"
   ]
  },
  {
   "cell_type": "code",
   "execution_count": 18,
   "id": "41689434-f1ce-475a-bad2-6987c6c8d545",
   "metadata": {},
   "outputs": [
    {
     "name": "stdout",
     "output_type": "stream",
     "text": [
      "['tenure', 'MonthlyCharges', 'TotalCharges']\n"
     ]
    }
   ],
   "source": [
    "num_cols = clone_df.select_dtypes(include=[\"int64\", \"float64\"]).columns\n",
    "\n",
    "non_binary_num_cols = [col for col in num_cols if clone_df[col].nunique() > 2]\n",
    "\n",
    "print(non_binary_num_cols)\n"
   ]
  },
  {
   "cell_type": "code",
   "execution_count": 19,
   "id": "25809c4b-72ea-4e58-a016-eb559fae3e9e",
   "metadata": {},
   "outputs": [
    {
     "name": "stdout",
     "output_type": "stream",
     "text": [
      "MEAN:\n",
      "tenure              32.421786\n",
      "MonthlyCharges      64.798208\n",
      "TotalCharges      2283.300441\n",
      "dtype: float64\n",
      "\n",
      "MEDIAN:\n",
      "tenure              29.000\n",
      "MonthlyCharges      70.350\n",
      "TotalCharges      1397.475\n",
      "dtype: float64\n",
      "\n",
      "MIN:\n",
      "tenure             1.00\n",
      "MonthlyCharges    18.25\n",
      "TotalCharges      18.80\n",
      "dtype: float64\n",
      "\n",
      "MAX:\n",
      "tenure              72.00\n",
      "MonthlyCharges     118.75\n",
      "TotalCharges      8684.80\n",
      "dtype: float64\n"
     ]
    }
   ],
   "source": [
    "print(\"MEAN:\")\n",
    "print(clone_df[non_binary_num_cols].mean())\n",
    "print()\n",
    "\n",
    "print(\"MEDIAN:\")\n",
    "print(clone_df[non_binary_num_cols].median())\n",
    "print()\n",
    "\n",
    "print(\"MIN:\")\n",
    "print(clone_df[non_binary_num_cols].min())\n",
    "print()\n",
    "\n",
    "print(\"MAX:\")\n",
    "print(clone_df[non_binary_num_cols].max())\n"
   ]
  },
  {
   "cell_type": "code",
   "execution_count": 20,
   "id": "15081043-5adc-4b0c-b1dd-5a557b3d6ac1",
   "metadata": {},
   "outputs": [
    {
     "data": {
      "image/png": "[encoded data removed]",
      "text/plain": [
       "<Figure size 640x480 with 1 Axes>"
      ]
     },
     "metadata": {},
     "output_type": "display_data"
    },
    {
     "data": {
      "image/png": "[encoded data removed]",
      "text/plain": [
       "<Figure size 640x480 with 1 Axes>"
      ]
     },
     "metadata": {},
     "output_type": "display_data"
    }
   ],
   "source": [
    "#Churn count per customer\n",
    "\n",
    "sns.countplot(x=\"Churn\", data=clone_df)\n",
    "plt.title(\"Churn Distribution\")\n",
    "plt.show()\n",
    "\n",
    "import matplotlib.pyplot as plt\n",
    "\n",
    "\n",
    "churn_counts = clone_df[\"Churn\"].value_counts()\n",
    "\n",
    "# Pie chart\n",
    "plt.pie(churn_counts, \n",
    "        labels=churn_counts.index, \n",
    "        autopct='%1.1f%%', \n",
    "        startangle=90, \n",
    "        colors=[\"red\", \"skyblue\"])\n",
    "\n",
    "plt.title(\"Churn Pie Chart\")\n",
    "plt.show()\n",
    "\n"
   ]
  },
  {
   "cell_type": "code",
   "execution_count": 21,
   "id": "0774b29f-a75d-4805-ae59-febfc93f8324",
   "metadata": {},
   "outputs": [
    {
     "data": {
      "image/png": "[encoded data removed]",
      "text/plain": [
       "<Figure size 640x480 with 1 Axes>"
      ]
     },
     "metadata": {},
     "output_type": "display_data"
    },
    {
     "data": {
      "image/png": "[encoded data removed]",
      "text/plain": [
       "<Figure size 640x480 with 1 Axes>"
      ]
     },
     "metadata": {},
     "output_type": "display_data"
    },
    {
     "data": {
      "image/png": "[encoded data removed]",
      "text/plain": [
       "<Figure size 640x480 with 1 Axes>"
      ]
     },
     "metadata": {},
     "output_type": "display_data"
    }
   ],
   "source": [
    "for col in non_binary_num_cols:\n",
    "    plt.hist(clone_df[col], bins = 30, edgecolor = 'black')\n",
    "    plt.title(f\"{col} Distribution\")\n",
    "    plt.xlabel(f\"{col}\")\n",
    "    plt.ylabel(\"Frequency\")\n",
    "    plt.grid(True)\n",
    "    plt.show()"
   ]
  },
  {
   "cell_type": "markdown",
   "id": "f6846b4e-60e3-478a-a0e8-a36f9b420143",
   "metadata": {},
   "source": [
    "For the charges ('MonthlyCharges' and 'TotalCharges'), the distributions are right-skewed, while 'tenure' shows a bimodal pattern. Although 'tenure' is likely correlated with 'TotalCharges', the variation in monthly charges across customers explains why the 'TotalCharges' histogram does not display a clear bimodal shape."
   ]
  },
  {
   "cell_type": "code",
   "execution_count": 22,
   "id": "29bd04f9-af73-4192-9402-7d325f82d1a6",
   "metadata": {},
   "outputs": [
    {
     "name": "stdout",
     "output_type": "stream",
     "text": [
      "tenure: correlation = -0.354, p-value = 9.44e-207\n",
      "MonthlyCharges: correlation = 0.193, p-value = 6.76e-60\n",
      "TotalCharges: correlation = -0.199, p-value = 4.88e-64\n"
     ]
    }
   ],
   "source": [
    "# Testing correlation\n",
    "\n",
    "from scipy.stats import pointbiserialr\n",
    "\n",
    "for col in non_binary_num_cols:\n",
    "    corr, pval = pointbiserialr(clone_df[col], clone_df[\"Churn\"])\n",
    "    print(f\"{col}: correlation = {corr:.3f}, p-value = {pval:.3g}\")\n"
   ]
  },
  {
   "cell_type": "markdown",
   "id": "06317295-38dd-4011-86a4-e89d484f06b8",
   "metadata": {},
   "source": [
    "Among the continuous variables, 'tenure' shows the strongest relationship with churn (correlation = -0.354), indicating that customers with longer tenures are less likely to churn. 'MonthlyCharges' and 'TotalCharges' both show weak correlations with churn."
   ]
  },
  {
   "cell_type": "code",
   "execution_count": 23,
   "id": "17a83926-3247-4202-8c31-686a08f81062",
   "metadata": {},
   "outputs": [
    {
     "data": {
      "image/png": "[encoded data removed]",
      "text/plain": [
       "<Figure size 640x480 with 2 Axes>"
      ]
     },
     "metadata": {},
     "output_type": "display_data"
    }
   ],
   "source": [
    "# Checking for redundancy among any of the numeric features in the dataset via heatmap.\n",
    "\n",
    "corr_matrix = clone_df[non_binary_num_cols].corr()\n",
    "\n",
    "sns.heatmap(corr_matrix, annot = True, cmap = \"coolwarm\", center = 0)\n",
    "plt.title(\"Continuous Variable Correlation Heatmap\")\n",
    "plt.show()"
   ]
  },
  {
   "cell_type": "markdown",
   "id": "3e5759ff-5a5c-410f-bda2-2ed70a75bb37",
   "metadata": {},
   "source": [
    "As expected, 'Tenure' and 'MonthlyCharges' have a strong relationship with 'TotalCharges'. However, they have a weak relationship with each other, reflecting the variety in \"MonthlyCharges'."
   ]
  },
  {
   "cell_type": "code",
   "execution_count": 24,
   "id": "4858cca0-5e76-4229-aeb7-455d13ef78c3",
   "metadata": {},
   "outputs": [
    {
     "name": "stdout",
     "output_type": "stream",
     "text": [
      "['gender', 'SeniorCitizen', 'Partner', 'Dependents', 'PhoneService', 'MultipleLines', 'InternetService', 'OnlineSecurity', 'OnlineBackup', 'DeviceProtection', 'TechSupport', 'StreamingTV', 'StreamingMovies', 'Contract', 'PaperlessBilling', 'PaymentMethod']\n"
     ]
    }
   ],
   "source": [
    "#Checking correlation for the categorical variables in regards to churn rates\n",
    "\n",
    "# making the list for the categorical variables\n",
    "\n",
    "cat_col = []\n",
    "for col in clone_df.columns:\n",
    "    if col not in non_binary_num_cols + [\"Churn\"]:\n",
    "        cat_col.append(col)\n",
    "\n",
    "print(cat_col)\n",
    "    "
   ]
  },
  {
   "cell_type": "code",
   "execution_count": 25,
   "id": "a8b8d331-f1af-47f6-9746-84328902dd50",
   "metadata": {},
   "outputs": [
    {
     "name": "stdout",
     "output_type": "stream",
     "text": [
      "gender: Cramér’s V = 0.008\n",
      "SeniorCitizen: Cramér’s V = 0.150\n",
      "Partner: Cramér’s V = 0.150\n",
      "Dependents: Cramér’s V = 0.163\n",
      "PhoneService: Cramér’s V = 0.011\n",
      "MultipleLines: Cramér’s V = 0.040\n",
      "InternetService: Cramér’s V = 0.322\n",
      "OnlineSecurity: Cramér’s V = 0.347\n",
      "OnlineBackup: Cramér’s V = 0.292\n",
      "DeviceProtection: Cramér’s V = 0.281\n",
      "TechSupport: Cramér’s V = 0.343\n",
      "StreamingTV: Cramér’s V = 0.230\n",
      "StreamingMovies: Cramér’s V = 0.231\n",
      "Contract: Cramér’s V = 0.410\n",
      "PaperlessBilling: Cramér’s V = 0.191\n",
      "PaymentMethod: Cramér’s V = 0.303\n"
     ]
    }
   ],
   "source": [
    "# Chi Square Test\n",
    "\n",
    "import scipy.stats as stats\n",
    "\n",
    "def cramers_v(confusion_matrix):\n",
    "    chi2 = stats.chi2_contingency(confusion_matrix)[0]\n",
    "    n = confusion_matrix.sum()\n",
    "    phi2 = chi2 / n\n",
    "    r, k = confusion_matrix.shape\n",
    "    return np.sqrt(phi2 / min(k - 1, r - 1))\n",
    "\n",
    "for col in clone_df.columns:\n",
    "    if col not in non_binary_num_cols + [\"Churn\"]:\n",
    "        table = pd.crosstab(clone_df[col], clone_df[\"Churn\"])\n",
    "        cv = cramers_v(table.values)\n",
    "        print(f\"{col}: Cramér’s V = {cv:.3f}\")\n"
   ]
  },
  {
   "cell_type": "markdown",
   "id": "4d730098-307b-4e48-a404-d559d14defd5",
   "metadata": {},
   "source": [
    "Among the categorical columns, 'Contract' shows the strongest relationship with customer churn (V = 0.410), suggesting that the type of contract plays a key role in whether a customer is likely to leave. 'OnlineSecurity' has the second strongest relationship with churn, followed by 'TechSupport'. As expected, gender has almost no predictive capability regarding churn (V = 0.008)."
   ]
  },
  {
   "cell_type": "code",
   "execution_count": 26,
   "id": "e243a238-f9cd-40b2-a908-ad3a384d704e",
   "metadata": {},
   "outputs": [
    {
     "data": {
      "image/png": "[encoded data removed]",
      "text/plain": [
       "<Figure size 640x480 with 1 Axes>"
      ]
     },
     "metadata": {},
     "output_type": "display_data"
    },
    {
     "data": {
      "image/png": "[encoded data removed]",
      "text/plain": [
       "<Figure size 640x480 with 1 Axes>"
      ]
     },
     "metadata": {},
     "output_type": "display_data"
    },
    {
     "data": {
      "image/png": "[encoded data removed]",
      "text/plain": [
       "<Figure size 640x480 with 1 Axes>"
      ]
     },
     "metadata": {},
     "output_type": "display_data"
    }
   ],
   "source": [
    "strong_cat = ['Contract', 'OnlineSecurity', 'TechSupport']\n",
    "\n",
    "for col in strong_cat:\n",
    "    sns.countplot(x=col, hue = 'Churn', data = clone_df)\n",
    "    plt.title(f\"{col} vs Churn\")\n",
    "    plt.show()\n",
    "    "
   ]
  },
  {
   "cell_type": "markdown",
   "id": "0647483e-5f24-4293-812e-51d6920eb767",
   "metadata": {},
   "source": [
    "The bar plots visualize the churn ratio. As seen in the figures, lack of tech support and online security result in a higher amount of customer churn. Similarly, month-month contracts also predict a higher willingness to churn in the customer."
   ]
  },
  {
   "cell_type": "code",
   "execution_count": 27,
   "id": "b614a748-42da-4725-84a7-5b7f9460aed2",
   "metadata": {},
   "outputs": [
    {
     "name": "stdout",
     "output_type": "stream",
     "text": [
      "gender: Male\n",
      "SeniorCitizen: 0\n",
      "Partner: 0\n",
      "Dependents: 0\n",
      "PhoneService: 1\n",
      "MultipleLines: No\n",
      "InternetService: Fiber optic\n",
      "OnlineSecurity: No\n",
      "OnlineBackup: No\n",
      "DeviceProtection: No\n",
      "TechSupport: No\n",
      "StreamingTV: No\n",
      "StreamingMovies: No\n",
      "Contract: Month-to-month\n",
      "PaperlessBilling: 1\n",
      "PaymentMethod: Electronic check\n"
     ]
    }
   ],
   "source": [
    "# Finding the mode for the categorical variables\n",
    "\n",
    "for col in cat_col:\n",
    "    print(f\"{col}: {clone_df[col].mode()[0]}\")"
   ]
  },
  {
   "cell_type": "code",
   "execution_count": 28,
   "id": "73e9a3cf-cbab-4bf3-9deb-9f399b5eca12",
   "metadata": {},
   "outputs": [
    {
     "data": {
      "image/png": "[encoded data removed]",
      "text/plain": [
       "<Figure size 640x480 with 2 Axes>"
      ]
     },
     "metadata": {},
     "output_type": "display_data"
    }
   ],
   "source": [
    "# Checking correlation among the categorical variables\n",
    "\n",
    "cramer_matrix = pd.DataFrame(index=cat_col, columns=cat_col)\n",
    "\n",
    "for col1 in cat_col:\n",
    "    for col2 in cat_col:\n",
    "        if col1 == col2:\n",
    "            cramer_matrix.loc[col1, col2] = 1.0\n",
    "        else:\n",
    "            table = pd.crosstab(clone_df[col1], clone_df[col2])\n",
    "            cramer_matrix.loc[col1, col2] = cramers_v(table.values)\n",
    "\n",
    "cramer_matrix = cramer_matrix.astype(float)\n",
    "\n",
    "sns.heatmap(cramer_matrix, annot=False, cmap=\"coolwarm\", center=0)\n",
    "plt.title(\"Correlation Between Categorical Variables\")\n",
    "plt.show()\n"
   ]
  },
  {
   "cell_type": "markdown",
   "id": "82c48153-6d5b-4be3-906a-3d0370d93818",
   "metadata": {},
   "source": [
    "A few of the columns, such as 'InternetService', 'OnlineSecurity', 'DeviceProtection', and 'StreamingTV' have more red squares than others, suggesting higher correlation with other categorical variables than most. 'PhoneService' and 'MultipleLines' have a correlation of 1.000, effectively rendering them redundant. Aside from that, there may be more collinearity within the dataset"
   ]
  },
  {
   "cell_type": "markdown",
   "id": "b556124b-a8ed-4e4c-980e-09dd5e49d88a",
   "metadata": {},
   "source": [
    "The analysis showed a bimodal distribution for the 'tenure' variable, which also has the highest correlation with churn among the continuous variables. 'MonthlyCharges' and 'TotalCharges' are right-skewed and have weak relationships with churn ('TotalCharges' is highly correlated with both 'MonthlyCharges' and 'tenure'). Among the categorical variables, the three most strongly correlated with churn are 'Contract', 'OnlineSecurity', and 'TechSupport', with 'Contract' showing the highest correlation at 0.401. 'Gender', on the other hand, has almost no predictive power regarding customer churn (0.008) and shows very weak relationships with other categorical variables. A few categorical variables are also highly correlated with each other, effectively making them redundant. These will be addressed during Feature Engineering."
   ]
  },
  {
   "cell_type": "code",
   "execution_count": null,
   "id": "73aa4dfb-4ea3-4b3e-9940-4b6e2d80f684",
   "metadata": {},
   "outputs": [],
   "source": []
  },
  {
   "cell_type": "markdown",
   "id": "e150bd00-2eab-4a0d-9789-75ba801230f3",
   "metadata": {},
   "source": [
    "--------------------"
   ]
  },
  {
   "cell_type": "markdown",
   "id": "e7ac6ab7-ae83-4dfb-86ba-71ad5f5d753f",
   "metadata": {},
   "source": [
    "## Feature Engineering"
   ]
  },
  {
   "cell_type": "code",
   "execution_count": 29,
   "id": "69fe5c18-e27e-4638-83cc-67c182726ddd",
   "metadata": {},
   "outputs": [],
   "source": [
    "# Dropping 'MultipleLines' to reduce risk of collinearity. As shown before, it risks collinearity with 'PhoneService' as it has a 1.000 correlation\n",
    "\n",
    "clone_df.drop('MultipleLines', axis = 1, inplace = True)\n",
    "\n"
   ]
  },
  {
   "cell_type": "code",
   "execution_count": 30,
   "id": "121b2405-bd36-4423-8c19-14265f8fdd62",
   "metadata": {},
   "outputs": [
    {
     "name": "stdout",
     "output_type": "stream",
     "text": [
      "Index(['gender', 'SeniorCitizen', 'Partner', 'Dependents', 'tenure',\n",
      "       'PhoneService', 'InternetService', 'OnlineSecurity', 'OnlineBackup',\n",
      "       'DeviceProtection', 'TechSupport', 'StreamingTV', 'StreamingMovies',\n",
      "       'Contract', 'PaperlessBilling', 'PaymentMethod', 'MonthlyCharges',\n",
      "       'TotalCharges', 'Churn'],\n",
      "      dtype='object')\n"
     ]
    }
   ],
   "source": [
    "print(clone_df.columns)"
   ]
  },
  {
   "cell_type": "code",
   "execution_count": 31,
   "id": "6306f986-5782-44f0-a502-060a9a57fdd2",
   "metadata": {},
   "outputs": [],
   "source": [
    "# Dropping 'StreamingMovies' to reduce risk of collinearity, as it has a very strong relationship with 'StreamingTV'.\n",
    "\n",
    "clone_df.drop('StreamingMovies', axis = 1, inplace = True)"
   ]
  },
  {
   "cell_type": "code",
   "execution_count": 32,
   "id": "1f2b869a-3143-4361-97d1-0d8b3c5fa7dd",
   "metadata": {},
   "outputs": [
    {
     "name": "stdout",
     "output_type": "stream",
     "text": [
      "Index(['gender', 'SeniorCitizen', 'Partner', 'Dependents', 'tenure',\n",
      "       'PhoneService', 'InternetService', 'OnlineSecurity', 'OnlineBackup',\n",
      "       'DeviceProtection', 'TechSupport', 'StreamingTV', 'Contract',\n",
      "       'PaperlessBilling', 'PaymentMethod', 'MonthlyCharges', 'TotalCharges',\n",
      "       'Churn'],\n",
      "      dtype='object')\n"
     ]
    }
   ],
   "source": [
    "print(clone_df.columns)"
   ]
  },
  {
   "cell_type": "markdown",
   "id": "ce989911-da2f-4755-8dcf-da81eef7f01b",
   "metadata": {},
   "source": [
    "Since I have already changed the categorical columns with two options (Yes/No) into binary, I will now one-hot encode the other categorical variables. They have more than two options, and must be encoded differently as a result."
   ]
  },
  {
   "cell_type": "code",
   "execution_count": 33,
   "id": "652fd1c1-6dbc-46fe-9b09-297c41d86338",
   "metadata": {},
   "outputs": [
    {
     "name": "stdout",
     "output_type": "stream",
     "text": [
      "['InternetService', 'OnlineSecurity', 'OnlineBackup', 'DeviceProtection', 'TechSupport', 'StreamingTV', 'Contract', 'PaymentMethod']\n"
     ]
    }
   ],
   "source": [
    "# One-hot encoding the rest of the categorical variables\n",
    "\n",
    "categorical_var = clone_df.select_dtypes(include=['object']).columns.tolist()\n",
    "\n",
    "non_binary_cat_cols = [col for col in categorical_var if clone_df[col].nunique() >= 3]\n",
    "\n",
    "print(non_binary_cat_cols)\n"
   ]
  },
  {
   "cell_type": "markdown",
   "id": "1abafff5-bc1a-43dc-984c-a1e22ee3b2bb",
   "metadata": {},
   "source": [
    "I will one-hot encode the non-binary categorical columns. For the service add-ons, each encoding creates three new columns, but I will drop one from each since the model can infer the third option from the other two. The only exceptions are 'Contract', 'PaymentMethod', and 'InternetService', as those need to retain all of their categories."
   ]
  },
  {
   "cell_type": "code",
   "execution_count": 34,
   "id": "bd9130f5-f021-4b3c-8996-0ba34411c0a9",
   "metadata": {},
   "outputs": [
    {
     "data": {
      "text/plain": [
       "(7032, 18)"
      ]
     },
     "execution_count": 34,
     "metadata": {},
     "output_type": "execute_result"
    }
   ],
   "source": [
    "clone_df.shape"
   ]
  },
  {
   "cell_type": "code",
   "execution_count": 35,
   "id": "5d4d2aba-29d5-4c70-92c7-065b30afd307",
   "metadata": {},
   "outputs": [
    {
     "name": "stdout",
     "output_type": "stream",
     "text": [
      "Added: ['OnlineSecurity_No', 'OnlineSecurity_Yes', 'OnlineBackup_No', 'OnlineBackup_Yes', 'DeviceProtection_No', 'DeviceProtection_Yes', 'TechSupport_No', 'TechSupport_Yes', 'StreamingTV_No', 'StreamingTV_Yes']\n"
     ]
    }
   ],
   "source": [
    "service_addons = ['OnlineSecurity', 'OnlineBackup', 'DeviceProtection', 'TechSupport', 'StreamingTV']\n",
    "\n",
    "for col in service_addons:\n",
    "    clone_df[col] = pd.Categorical(\n",
    "        clone_df[col],\n",
    "        categories=[\"No internet service\", \"No\", \"Yes\"],\n",
    "        ordered=True\n",
    "    )\n",
    "\n",
    "service_dummies = pd.get_dummies(clone_df[service_addons], drop_first=True)\n",
    "\n",
    "clone_df = pd.concat([clone_df.drop(columns=service_addons), service_dummies], axis=1)\n",
    "\n",
    "print(\"Added:\", service_dummies.columns.tolist())\n"
   ]
  },
  {
   "cell_type": "code",
   "execution_count": 37,
   "id": "44f5a3ea-7885-4489-80f3-d56535446737",
   "metadata": {},
   "outputs": [
    {
     "name": "stdout",
     "output_type": "stream",
     "text": [
      "Added: ['Contract_Month-to-month', 'Contract_One year', 'Contract_Two year', 'PaymentMethod_Bank transfer (automatic)', 'PaymentMethod_Credit card (automatic)', 'PaymentMethod_Electronic check', 'PaymentMethod_Mailed check', 'InternetService_DSL', 'InternetService_Fiber optic', 'InternetService_No']\n"
     ]
    }
   ],
   "source": [
    "# Encoding the last three categorical columns\n",
    "\n",
    "other_three = ['Contract', 'PaymentMethod', 'InternetService']\n",
    "\n",
    "other_three_dummies = pd.get_dummies(clone_df[other_three], drop_first=False)\n",
    "\n",
    "clone_df = pd.concat([clone_df.drop(columns=other_three), other_three_dummies], axis=1)\n",
    "\n",
    "print(\"Added:\", other_three_dummies.columns.tolist())\n"
   ]
  },
  {
   "cell_type": "code",
   "execution_count": 49,
   "id": "bf8777e6-17ec-498f-8d06-fd0950471cb3",
   "metadata": {},
   "outputs": [
    {
     "name": "stdout",
     "output_type": "stream",
     "text": [
      "Index(['OnlineSecurity_No', 'OnlineSecurity_Yes', 'OnlineBackup_No',\n",
      "       'OnlineBackup_Yes', 'DeviceProtection_No', 'DeviceProtection_Yes',\n",
      "       'TechSupport_No', 'TechSupport_Yes', 'StreamingTV_No',\n",
      "       'StreamingTV_Yes', 'Contract_Month-to-month', 'Contract_One year',\n",
      "       'Contract_Two year', 'PaymentMethod_Bank transfer (automatic)',\n",
      "       'PaymentMethod_Credit card (automatic)',\n",
      "       'PaymentMethod_Electronic check', 'PaymentMethod_Mailed check',\n",
      "       'InternetService_DSL', 'InternetService_Fiber optic',\n",
      "       'InternetService_No'],\n",
      "      dtype='object')\n"
     ]
    }
   ],
   "source": [
    "# The encoding uses a boolean (True/False) type. I will change that to binary (0/1) for modeling\n",
    "bool_col = clone_df.select_dtypes(include = ['bool']).columns\n",
    "print(bool_col)"
   ]
  },
  {
   "cell_type": "code",
   "execution_count": 50,
   "id": "339ca72d-4ac6-43dc-a753-14b10feb4074",
   "metadata": {},
   "outputs": [],
   "source": [
    "clone_df[bool_col] = clone_df[bool_col].astype(int)"
   ]
  },
  {
   "cell_type": "code",
   "execution_count": 51,
   "id": "0d93aa1a-0e6b-4f75-820d-2db489cc09c0",
   "metadata": {},
   "outputs": [
    {
     "data": {
      "text/html": [
       "<div>\n",
       "<style scoped>\n",
       "    .dataframe tbody tr th:only-of-type {\n",
       "        vertical-align: middle;\n",
       "    }\n",
       "\n",
       "    .dataframe tbody tr th {\n",
       "        vertical-align: top;\n",
       "    }\n",
       "\n",
       "    .dataframe thead th {\n",
       "        text-align: right;\n",
       "    }\n",
       "</style>\n",
       "<table border=\"1\" class=\"dataframe\">\n",
       "  <thead>\n",
       "    <tr style=\"text-align: right;\">\n",
       "      <th></th>\n",
       "      <th>OnlineSecurity_No</th>\n",
       "      <th>OnlineSecurity_Yes</th>\n",
       "      <th>OnlineBackup_No</th>\n",
       "      <th>OnlineBackup_Yes</th>\n",
       "      <th>DeviceProtection_No</th>\n",
       "      <th>DeviceProtection_Yes</th>\n",
       "      <th>TechSupport_No</th>\n",
       "      <th>TechSupport_Yes</th>\n",
       "      <th>StreamingTV_No</th>\n",
       "      <th>StreamingTV_Yes</th>\n",
       "      <th>Contract_Month-to-month</th>\n",
       "      <th>Contract_One year</th>\n",
       "      <th>Contract_Two year</th>\n",
       "      <th>PaymentMethod_Bank transfer (automatic)</th>\n",
       "      <th>PaymentMethod_Credit card (automatic)</th>\n",
       "      <th>PaymentMethod_Electronic check</th>\n",
       "      <th>PaymentMethod_Mailed check</th>\n",
       "      <th>InternetService_DSL</th>\n",
       "      <th>InternetService_Fiber optic</th>\n",
       "      <th>InternetService_No</th>\n",
       "    </tr>\n",
       "  </thead>\n",
       "  <tbody>\n",
       "    <tr>\n",
       "      <th>0</th>\n",
       "      <td>1</td>\n",
       "      <td>0</td>\n",
       "      <td>0</td>\n",
       "      <td>1</td>\n",
       "      <td>1</td>\n",
       "      <td>0</td>\n",
       "      <td>1</td>\n",
       "      <td>0</td>\n",
       "      <td>1</td>\n",
       "      <td>0</td>\n",
       "      <td>1</td>\n",
       "      <td>0</td>\n",
       "      <td>0</td>\n",
       "      <td>0</td>\n",
       "      <td>0</td>\n",
       "      <td>1</td>\n",
       "      <td>0</td>\n",
       "      <td>1</td>\n",
       "      <td>0</td>\n",
       "      <td>0</td>\n",
       "    </tr>\n",
       "    <tr>\n",
       "      <th>1</th>\n",
       "      <td>0</td>\n",
       "      <td>1</td>\n",
       "      <td>1</td>\n",
       "      <td>0</td>\n",
       "      <td>0</td>\n",
       "      <td>1</td>\n",
       "      <td>1</td>\n",
       "      <td>0</td>\n",
       "      <td>1</td>\n",
       "      <td>0</td>\n",
       "      <td>0</td>\n",
       "      <td>1</td>\n",
       "      <td>0</td>\n",
       "      <td>0</td>\n",
       "      <td>0</td>\n",
       "      <td>0</td>\n",
       "      <td>1</td>\n",
       "      <td>1</td>\n",
       "      <td>0</td>\n",
       "      <td>0</td>\n",
       "    </tr>\n",
       "    <tr>\n",
       "      <th>2</th>\n",
       "      <td>0</td>\n",
       "      <td>1</td>\n",
       "      <td>0</td>\n",
       "      <td>1</td>\n",
       "      <td>1</td>\n",
       "      <td>0</td>\n",
       "      <td>1</td>\n",
       "      <td>0</td>\n",
       "      <td>1</td>\n",
       "      <td>0</td>\n",
       "      <td>1</td>\n",
       "      <td>0</td>\n",
       "      <td>0</td>\n",
       "      <td>0</td>\n",
       "      <td>0</td>\n",
       "      <td>0</td>\n",
       "      <td>1</td>\n",
       "      <td>1</td>\n",
       "      <td>0</td>\n",
       "      <td>0</td>\n",
       "    </tr>\n",
       "    <tr>\n",
       "      <th>3</th>\n",
       "      <td>0</td>\n",
       "      <td>1</td>\n",
       "      <td>1</td>\n",
       "      <td>0</td>\n",
       "      <td>0</td>\n",
       "      <td>1</td>\n",
       "      <td>0</td>\n",
       "      <td>1</td>\n",
       "      <td>1</td>\n",
       "      <td>0</td>\n",
       "      <td>0</td>\n",
       "      <td>1</td>\n",
       "      <td>0</td>\n",
       "      <td>1</td>\n",
       "      <td>0</td>\n",
       "      <td>0</td>\n",
       "      <td>0</td>\n",
       "      <td>1</td>\n",
       "      <td>0</td>\n",
       "      <td>0</td>\n",
       "    </tr>\n",
       "    <tr>\n",
       "      <th>4</th>\n",
       "      <td>1</td>\n",
       "      <td>0</td>\n",
       "      <td>1</td>\n",
       "      <td>0</td>\n",
       "      <td>1</td>\n",
       "      <td>0</td>\n",
       "      <td>1</td>\n",
       "      <td>0</td>\n",
       "      <td>1</td>\n",
       "      <td>0</td>\n",
       "      <td>1</td>\n",
       "      <td>0</td>\n",
       "      <td>0</td>\n",
       "      <td>0</td>\n",
       "      <td>0</td>\n",
       "      <td>1</td>\n",
       "      <td>0</td>\n",
       "      <td>0</td>\n",
       "      <td>1</td>\n",
       "      <td>0</td>\n",
       "    </tr>\n",
       "  </tbody>\n",
       "</table>\n",
       "</div>"
      ],
      "text/plain": [
       "   OnlineSecurity_No  OnlineSecurity_Yes  OnlineBackup_No  OnlineBackup_Yes  \\\n",
       "0                  1                   0                0                 1   \n",
       "1                  0                   1                1                 0   \n",
       "2                  0                   1                0                 1   \n",
       "3                  0                   1                1                 0   \n",
       "4                  1                   0                1                 0   \n",
       "\n",
       "   DeviceProtection_No  DeviceProtection_Yes  TechSupport_No  TechSupport_Yes  \\\n",
       "0                    1                     0               1                0   \n",
       "1                    0                     1               1                0   \n",
       "2                    1                     0               1                0   \n",
       "3                    0                     1               0                1   \n",
       "4                    1                     0               1                0   \n",
       "\n",
       "   StreamingTV_No  StreamingTV_Yes  Contract_Month-to-month  \\\n",
       "0               1                0                        1   \n",
       "1               1                0                        0   \n",
       "2               1                0                        1   \n",
       "3               1                0                        0   \n",
       "4               1                0                        1   \n",
       "\n",
       "   Contract_One year  Contract_Two year  \\\n",
       "0                  0                  0   \n",
       "1                  1                  0   \n",
       "2                  0                  0   \n",
       "3                  1                  0   \n",
       "4                  0                  0   \n",
       "\n",
       "   PaymentMethod_Bank transfer (automatic)  \\\n",
       "0                                        0   \n",
       "1                                        0   \n",
       "2                                        0   \n",
       "3                                        1   \n",
       "4                                        0   \n",
       "\n",
       "   PaymentMethod_Credit card (automatic)  PaymentMethod_Electronic check  \\\n",
       "0                                      0                               1   \n",
       "1                                      0                               0   \n",
       "2                                      0                               0   \n",
       "3                                      0                               0   \n",
       "4                                      0                               1   \n",
       "\n",
       "   PaymentMethod_Mailed check  InternetService_DSL  \\\n",
       "0                           0                    1   \n",
       "1                           1                    1   \n",
       "2                           1                    1   \n",
       "3                           0                    1   \n",
       "4                           0                    0   \n",
       "\n",
       "   InternetService_Fiber optic  InternetService_No  \n",
       "0                            0                   0  \n",
       "1                            0                   0  \n",
       "2                            0                   0  \n",
       "3                            0                   0  \n",
       "4                            1                   0  "
      ]
     },
     "execution_count": 51,
     "metadata": {},
     "output_type": "execute_result"
    }
   ],
   "source": [
    "clone_df[bool_col].head()"
   ]
  },
  {
   "cell_type": "code",
   "execution_count": 52,
   "id": "af388efc-8440-4087-9965-baa68c9003d0",
   "metadata": {},
   "outputs": [
    {
     "data": {
      "text/plain": [
       "(7032, 30)"
      ]
     },
     "execution_count": 52,
     "metadata": {},
     "output_type": "execute_result"
    }
   ],
   "source": [
    "clone_df.shape"
   ]
  },
  {
   "cell_type": "markdown",
   "id": "e8eefff0-75ac-471a-a532-b79b3ee569ce",
   "metadata": {},
   "source": [
    "Since I will be using linear models in the next phase (in addition to decision trees), I will standardize the continuous data in the data frame."
   ]
  },
  {
   "cell_type": "code",
   "execution_count": 54,
   "id": "f415ad07-9b94-4db7-a2bc-27f2ed150c29",
   "metadata": {},
   "outputs": [],
   "source": [
    "# Standardizing the columns with continuous data\n",
    "\n",
    "from sklearn.preprocessing import StandardScaler\n",
    "\n",
    "scaler = StandardScaler()\n",
    "\n",
    "clone_df[non_binary_num_cols] = scaler.fit_transform(clone_df[non_binary_num_cols])\n",
    "\n"
   ]
  },
  {
   "cell_type": "code",
   "execution_count": 55,
   "id": "f623e0a4-f005-4bfb-8c75-c2f3e7beb7ae",
   "metadata": {},
   "outputs": [
    {
     "data": {
      "text/html": [
       "<div>\n",
       "<style scoped>\n",
       "    .dataframe tbody tr th:only-of-type {\n",
       "        vertical-align: middle;\n",
       "    }\n",
       "\n",
       "    .dataframe tbody tr th {\n",
       "        vertical-align: top;\n",
       "    }\n",
       "\n",
       "    .dataframe thead th {\n",
       "        text-align: right;\n",
       "    }\n",
       "</style>\n",
       "<table border=\"1\" class=\"dataframe\">\n",
       "  <thead>\n",
       "    <tr style=\"text-align: right;\">\n",
       "      <th></th>\n",
       "      <th>tenure</th>\n",
       "      <th>MonthlyCharges</th>\n",
       "      <th>TotalCharges</th>\n",
       "    </tr>\n",
       "  </thead>\n",
       "  <tbody>\n",
       "    <tr>\n",
       "      <th>0</th>\n",
       "      <td>-1.280248</td>\n",
       "      <td>-1.161694</td>\n",
       "      <td>-0.994194</td>\n",
       "    </tr>\n",
       "    <tr>\n",
       "      <th>1</th>\n",
       "      <td>0.064303</td>\n",
       "      <td>-0.260878</td>\n",
       "      <td>-0.173740</td>\n",
       "    </tr>\n",
       "    <tr>\n",
       "      <th>2</th>\n",
       "      <td>-1.239504</td>\n",
       "      <td>-0.363923</td>\n",
       "      <td>-0.959649</td>\n",
       "    </tr>\n",
       "    <tr>\n",
       "      <th>3</th>\n",
       "      <td>0.512486</td>\n",
       "      <td>-0.747850</td>\n",
       "      <td>-0.195248</td>\n",
       "    </tr>\n",
       "    <tr>\n",
       "      <th>4</th>\n",
       "      <td>-1.239504</td>\n",
       "      <td>0.196178</td>\n",
       "      <td>-0.940457</td>\n",
       "    </tr>\n",
       "  </tbody>\n",
       "</table>\n",
       "</div>"
      ],
      "text/plain": [
       "     tenure  MonthlyCharges  TotalCharges\n",
       "0 -1.280248       -1.161694     -0.994194\n",
       "1  0.064303       -0.260878     -0.173740\n",
       "2 -1.239504       -0.363923     -0.959649\n",
       "3  0.512486       -0.747850     -0.195248\n",
       "4 -1.239504        0.196178     -0.940457"
      ]
     },
     "execution_count": 55,
     "metadata": {},
     "output_type": "execute_result"
    }
   ],
   "source": [
    "clone_df[non_binary_num_cols].head()"
   ]
  },
  {
   "cell_type": "code",
   "execution_count": 58,
   "id": "d5b30d25-ce07-446c-9396-3d4a3ec9143c",
   "metadata": {},
   "outputs": [
    {
     "data": {
      "text/html": [
       "<div>\n",
       "<style scoped>\n",
       "    .dataframe tbody tr th:only-of-type {\n",
       "        vertical-align: middle;\n",
       "    }\n",
       "\n",
       "    .dataframe tbody tr th {\n",
       "        vertical-align: top;\n",
       "    }\n",
       "\n",
       "    .dataframe thead th {\n",
       "        text-align: right;\n",
       "    }\n",
       "</style>\n",
       "<table border=\"1\" class=\"dataframe\">\n",
       "  <thead>\n",
       "    <tr style=\"text-align: right;\">\n",
       "      <th></th>\n",
       "      <th>gender</th>\n",
       "      <th>SeniorCitizen</th>\n",
       "      <th>Partner</th>\n",
       "      <th>Dependents</th>\n",
       "      <th>tenure</th>\n",
       "      <th>PhoneService</th>\n",
       "      <th>PaperlessBilling</th>\n",
       "      <th>MonthlyCharges</th>\n",
       "      <th>TotalCharges</th>\n",
       "      <th>Churn</th>\n",
       "      <th>...</th>\n",
       "      <th>Contract_Month-to-month</th>\n",
       "      <th>Contract_One year</th>\n",
       "      <th>Contract_Two year</th>\n",
       "      <th>PaymentMethod_Bank transfer (automatic)</th>\n",
       "      <th>PaymentMethod_Credit card (automatic)</th>\n",
       "      <th>PaymentMethod_Electronic check</th>\n",
       "      <th>PaymentMethod_Mailed check</th>\n",
       "      <th>InternetService_DSL</th>\n",
       "      <th>InternetService_Fiber optic</th>\n",
       "      <th>InternetService_No</th>\n",
       "    </tr>\n",
       "  </thead>\n",
       "  <tbody>\n",
       "    <tr>\n",
       "      <th>0</th>\n",
       "      <td>Female</td>\n",
       "      <td>0</td>\n",
       "      <td>1</td>\n",
       "      <td>0</td>\n",
       "      <td>-1.280248</td>\n",
       "      <td>0</td>\n",
       "      <td>1</td>\n",
       "      <td>-1.161694</td>\n",
       "      <td>-0.994194</td>\n",
       "      <td>0</td>\n",
       "      <td>...</td>\n",
       "      <td>1</td>\n",
       "      <td>0</td>\n",
       "      <td>0</td>\n",
       "      <td>0</td>\n",
       "      <td>0</td>\n",
       "      <td>1</td>\n",
       "      <td>0</td>\n",
       "      <td>1</td>\n",
       "      <td>0</td>\n",
       "      <td>0</td>\n",
       "    </tr>\n",
       "    <tr>\n",
       "      <th>1</th>\n",
       "      <td>Male</td>\n",
       "      <td>0</td>\n",
       "      <td>0</td>\n",
       "      <td>0</td>\n",
       "      <td>0.064303</td>\n",
       "      <td>1</td>\n",
       "      <td>0</td>\n",
       "      <td>-0.260878</td>\n",
       "      <td>-0.173740</td>\n",
       "      <td>0</td>\n",
       "      <td>...</td>\n",
       "      <td>0</td>\n",
       "      <td>1</td>\n",
       "      <td>0</td>\n",
       "      <td>0</td>\n",
       "      <td>0</td>\n",
       "      <td>0</td>\n",
       "      <td>1</td>\n",
       "      <td>1</td>\n",
       "      <td>0</td>\n",
       "      <td>0</td>\n",
       "    </tr>\n",
       "    <tr>\n",
       "      <th>2</th>\n",
       "      <td>Male</td>\n",
       "      <td>0</td>\n",
       "      <td>0</td>\n",
       "      <td>0</td>\n",
       "      <td>-1.239504</td>\n",
       "      <td>1</td>\n",
       "      <td>1</td>\n",
       "      <td>-0.363923</td>\n",
       "      <td>-0.959649</td>\n",
       "      <td>1</td>\n",
       "      <td>...</td>\n",
       "      <td>1</td>\n",
       "      <td>0</td>\n",
       "      <td>0</td>\n",
       "      <td>0</td>\n",
       "      <td>0</td>\n",
       "      <td>0</td>\n",
       "      <td>1</td>\n",
       "      <td>1</td>\n",
       "      <td>0</td>\n",
       "      <td>0</td>\n",
       "    </tr>\n",
       "    <tr>\n",
       "      <th>3</th>\n",
       "      <td>Male</td>\n",
       "      <td>0</td>\n",
       "      <td>0</td>\n",
       "      <td>0</td>\n",
       "      <td>0.512486</td>\n",
       "      <td>0</td>\n",
       "      <td>0</td>\n",
       "      <td>-0.747850</td>\n",
       "      <td>-0.195248</td>\n",
       "      <td>0</td>\n",
       "      <td>...</td>\n",
       "      <td>0</td>\n",
       "      <td>1</td>\n",
       "      <td>0</td>\n",
       "      <td>1</td>\n",
       "      <td>0</td>\n",
       "      <td>0</td>\n",
       "      <td>0</td>\n",
       "      <td>1</td>\n",
       "      <td>0</td>\n",
       "      <td>0</td>\n",
       "    </tr>\n",
       "    <tr>\n",
       "      <th>4</th>\n",
       "      <td>Female</td>\n",
       "      <td>0</td>\n",
       "      <td>0</td>\n",
       "      <td>0</td>\n",
       "      <td>-1.239504</td>\n",
       "      <td>1</td>\n",
       "      <td>1</td>\n",
       "      <td>0.196178</td>\n",
       "      <td>-0.940457</td>\n",
       "      <td>1</td>\n",
       "      <td>...</td>\n",
       "      <td>1</td>\n",
       "      <td>0</td>\n",
       "      <td>0</td>\n",
       "      <td>0</td>\n",
       "      <td>0</td>\n",
       "      <td>1</td>\n",
       "      <td>0</td>\n",
       "      <td>0</td>\n",
       "      <td>1</td>\n",
       "      <td>0</td>\n",
       "    </tr>\n",
       "  </tbody>\n",
       "</table>\n",
       "<p>5 rows × 30 columns</p>\n",
       "</div>"
      ],
      "text/plain": [
       "   gender  SeniorCitizen  Partner  Dependents    tenure  PhoneService  \\\n",
       "0  Female              0        1           0 -1.280248             0   \n",
       "1    Male              0        0           0  0.064303             1   \n",
       "2    Male              0        0           0 -1.239504             1   \n",
       "3    Male              0        0           0  0.512486             0   \n",
       "4  Female              0        0           0 -1.239504             1   \n",
       "\n",
       "   PaperlessBilling  MonthlyCharges  TotalCharges  Churn  ...  \\\n",
       "0                 1       -1.161694     -0.994194      0  ...   \n",
       "1                 0       -0.260878     -0.173740      0  ...   \n",
       "2                 1       -0.363923     -0.959649      1  ...   \n",
       "3                 0       -0.747850     -0.195248      0  ...   \n",
       "4                 1        0.196178     -0.940457      1  ...   \n",
       "\n",
       "   Contract_Month-to-month  Contract_One year  Contract_Two year  \\\n",
       "0                        1                  0                  0   \n",
       "1                        0                  1                  0   \n",
       "2                        1                  0                  0   \n",
       "3                        0                  1                  0   \n",
       "4                        1                  0                  0   \n",
       "\n",
       "   PaymentMethod_Bank transfer (automatic)  \\\n",
       "0                                        0   \n",
       "1                                        0   \n",
       "2                                        0   \n",
       "3                                        1   \n",
       "4                                        0   \n",
       "\n",
       "   PaymentMethod_Credit card (automatic)  PaymentMethod_Electronic check  \\\n",
       "0                                      0                               1   \n",
       "1                                      0                               0   \n",
       "2                                      0                               0   \n",
       "3                                      0                               0   \n",
       "4                                      0                               1   \n",
       "\n",
       "   PaymentMethod_Mailed check  InternetService_DSL  \\\n",
       "0                           0                    1   \n",
       "1                           1                    1   \n",
       "2                           1                    1   \n",
       "3                           0                    1   \n",
       "4                           0                    0   \n",
       "\n",
       "   InternetService_Fiber optic  InternetService_No  \n",
       "0                            0                   0  \n",
       "1                            0                   0  \n",
       "2                            0                   0  \n",
       "3                            0                   0  \n",
       "4                            1                   0  \n",
       "\n",
       "[5 rows x 30 columns]"
      ]
     },
     "execution_count": 58,
     "metadata": {},
     "output_type": "execute_result"
    }
   ],
   "source": [
    "clone_df.head()"
   ]
  },
  {
   "cell_type": "code",
   "execution_count": 59,
   "id": "ff6a6da7-c9a3-43aa-8ad6-b7c45cc78e3c",
   "metadata": {},
   "outputs": [],
   "source": [
    "# forgot to encode 'gender'. I will do that now.\n",
    "\n",
    "clone_df['gender'] = clone_df['gender'].map({'Male': 1, 'Female': 0})\n"
   ]
  },
  {
   "cell_type": "code",
   "execution_count": 60,
   "id": "2c76ec8b-6dea-424e-944e-428a342e10b1",
   "metadata": {},
   "outputs": [
    {
     "data": {
      "text/html": [
       "<div>\n",
       "<style scoped>\n",
       "    .dataframe tbody tr th:only-of-type {\n",
       "        vertical-align: middle;\n",
       "    }\n",
       "\n",
       "    .dataframe tbody tr th {\n",
       "        vertical-align: top;\n",
       "    }\n",
       "\n",
       "    .dataframe thead th {\n",
       "        text-align: right;\n",
       "    }\n",
       "</style>\n",
       "<table border=\"1\" class=\"dataframe\">\n",
       "  <thead>\n",
       "    <tr style=\"text-align: right;\">\n",
       "      <th></th>\n",
       "      <th>gender</th>\n",
       "      <th>SeniorCitizen</th>\n",
       "      <th>Partner</th>\n",
       "      <th>Dependents</th>\n",
       "      <th>tenure</th>\n",
       "      <th>PhoneService</th>\n",
       "      <th>PaperlessBilling</th>\n",
       "      <th>MonthlyCharges</th>\n",
       "      <th>TotalCharges</th>\n",
       "      <th>Churn</th>\n",
       "      <th>...</th>\n",
       "      <th>Contract_Month-to-month</th>\n",
       "      <th>Contract_One year</th>\n",
       "      <th>Contract_Two year</th>\n",
       "      <th>PaymentMethod_Bank transfer (automatic)</th>\n",
       "      <th>PaymentMethod_Credit card (automatic)</th>\n",
       "      <th>PaymentMethod_Electronic check</th>\n",
       "      <th>PaymentMethod_Mailed check</th>\n",
       "      <th>InternetService_DSL</th>\n",
       "      <th>InternetService_Fiber optic</th>\n",
       "      <th>InternetService_No</th>\n",
       "    </tr>\n",
       "  </thead>\n",
       "  <tbody>\n",
       "    <tr>\n",
       "      <th>0</th>\n",
       "      <td>0</td>\n",
       "      <td>0</td>\n",
       "      <td>1</td>\n",
       "      <td>0</td>\n",
       "      <td>-1.280248</td>\n",
       "      <td>0</td>\n",
       "      <td>1</td>\n",
       "      <td>-1.161694</td>\n",
       "      <td>-0.994194</td>\n",
       "      <td>0</td>\n",
       "      <td>...</td>\n",
       "      <td>1</td>\n",
       "      <td>0</td>\n",
       "      <td>0</td>\n",
       "      <td>0</td>\n",
       "      <td>0</td>\n",
       "      <td>1</td>\n",
       "      <td>0</td>\n",
       "      <td>1</td>\n",
       "      <td>0</td>\n",
       "      <td>0</td>\n",
       "    </tr>\n",
       "    <tr>\n",
       "      <th>1</th>\n",
       "      <td>1</td>\n",
       "      <td>0</td>\n",
       "      <td>0</td>\n",
       "      <td>0</td>\n",
       "      <td>0.064303</td>\n",
       "      <td>1</td>\n",
       "      <td>0</td>\n",
       "      <td>-0.260878</td>\n",
       "      <td>-0.173740</td>\n",
       "      <td>0</td>\n",
       "      <td>...</td>\n",
       "      <td>0</td>\n",
       "      <td>1</td>\n",
       "      <td>0</td>\n",
       "      <td>0</td>\n",
       "      <td>0</td>\n",
       "      <td>0</td>\n",
       "      <td>1</td>\n",
       "      <td>1</td>\n",
       "      <td>0</td>\n",
       "      <td>0</td>\n",
       "    </tr>\n",
       "  </tbody>\n",
       "</table>\n",
       "<p>2 rows × 30 columns</p>\n",
       "</div>"
      ],
      "text/plain": [
       "   gender  SeniorCitizen  Partner  Dependents    tenure  PhoneService  \\\n",
       "0       0              0        1           0 -1.280248             0   \n",
       "1       1              0        0           0  0.064303             1   \n",
       "\n",
       "   PaperlessBilling  MonthlyCharges  TotalCharges  Churn  ...  \\\n",
       "0                 1       -1.161694     -0.994194      0  ...   \n",
       "1                 0       -0.260878     -0.173740      0  ...   \n",
       "\n",
       "   Contract_Month-to-month  Contract_One year  Contract_Two year  \\\n",
       "0                        1                  0                  0   \n",
       "1                        0                  1                  0   \n",
       "\n",
       "   PaymentMethod_Bank transfer (automatic)  \\\n",
       "0                                        0   \n",
       "1                                        0   \n",
       "\n",
       "   PaymentMethod_Credit card (automatic)  PaymentMethod_Electronic check  \\\n",
       "0                                      0                               1   \n",
       "1                                      0                               0   \n",
       "\n",
       "   PaymentMethod_Mailed check  InternetService_DSL  \\\n",
       "0                           0                    1   \n",
       "1                           1                    1   \n",
       "\n",
       "   InternetService_Fiber optic  InternetService_No  \n",
       "0                            0                   0  \n",
       "1                            0                   0  \n",
       "\n",
       "[2 rows x 30 columns]"
      ]
     },
     "execution_count": 60,
     "metadata": {},
     "output_type": "execute_result"
    }
   ],
   "source": [
    "clone_df.head(2)"
   ]
  },
  {
   "cell_type": "code",
   "execution_count": null,
   "id": "b699e427-49d4-4f61-9a58-7eb201068e5b",
   "metadata": {},
   "outputs": [],
   "source": []
  },
  {
   "cell_type": "markdown",
   "id": "e22e5353-4f77-4988-8c77-8b595d8fd477",
   "metadata": {},
   "source": [
    "----------"
   ]
  },
  {
   "cell_type": "markdown",
   "id": "78575ac3-da7b-4d9d-8578-9aed9cf474e5",
   "metadata": {},
   "source": [
    "## Modeling"
   ]
  },
  {
   "cell_type": "markdown",
   "id": "cd4a7c6e-c6bc-40af-81d9-c198bb6249fa",
   "metadata": {},
   "source": [
    "The data set has been cleaned, explored, and readied for the modeling phase"
   ]
  },
  {
   "cell_type": "code",
   "execution_count": 62,
   "id": "84575487-0781-4e25-8cdc-1ba85febc9a4",
   "metadata": {},
   "outputs": [
    {
     "name": "stdout",
     "output_type": "stream",
     "text": [
      "Train shape: (5625, 29) (5625,)\n",
      "Test shape: (1407, 29) (1407,)\n"
     ]
    }
   ],
   "source": [
    "# Train/test split\n",
    "\n",
    "from sklearn.model_selection import train_test_split\n",
    "\n",
    "X = clone_df.drop(columns=['Churn'])\n",
    "y = clone_df['Churn']\n",
    "\n",
    "X_train, X_test, y_train, y_test = train_test_split(\n",
    "    X, y, test_size=0.2, random_state=42, stratify=y\n",
    ")\n",
    "\n",
    "print(\"Train shape:\", X_train.shape, y_train.shape)\n",
    "print(\"Test shape:\", X_test.shape, y_test.shape)\n"
   ]
  },
  {
   "cell_type": "code",
   "execution_count": 63,
   "id": "cb836d19-2349-4b48-b022-000c6762d9b9",
   "metadata": {},
   "outputs": [
    {
     "name": "stdout",
     "output_type": "stream",
     "text": [
      "Confusion Matrix:\n",
      " [[918 115]\n",
      " [160 214]]\n",
      "\n",
      "Classification Report:\n",
      "               precision    recall  f1-score   support\n",
      "\n",
      "           0       0.85      0.89      0.87      1033\n",
      "           1       0.65      0.57      0.61       374\n",
      "\n",
      "    accuracy                           0.80      1407\n",
      "   macro avg       0.75      0.73      0.74      1407\n",
      "weighted avg       0.80      0.80      0.80      1407\n",
      "\n",
      "ROC-AUC Score: 0.8370653462476252\n"
     ]
    }
   ],
   "source": [
    "# Starting with Logistic Regression\n",
    "\n",
    "from sklearn.linear_model import LogisticRegression\n",
    "from sklearn.metrics import classification_report, confusion_matrix, roc_auc_score\n",
    "\n",
    "log_reg = LogisticRegression(max_iter=1000, random_state=42)\n",
    "log_reg.fit(X_train, y_train)\n",
    "\n",
    "y_pred = log_reg.predict(X_test)\n",
    "y_prob = log_reg.predict_proba(X_test)[:,1]\n",
    "\n",
    "print(\"Confusion Matrix:\\n\", confusion_matrix(y_test, y_pred))\n",
    "print(\"\\nClassification Report:\\n\", classification_report(y_test, y_pred))\n",
    "print(\"ROC-AUC Score:\", roc_auc_score(y_test, y_prob))\n"
   ]
  },
  {
   "cell_type": "markdown",
   "id": "e03c8478-f2f1-4c53-b78c-82cf9beb3b64",
   "metadata": {},
   "source": [
    "The model performs well at detecting customers who did not churn, with a precision of 85% and a recall of 89%. However, when predicting customers who did churn, performance drops to a precision of 65% and a recall of 57%. Overall accuracy stands at 80%. While there is room for improvement (particularly in capturing churned customers), this provides a solid baseline for comparison with more complex models."
   ]
  },
  {
   "cell_type": "code",
   "execution_count": 65,
   "id": "66e547fb-eb2a-4a57-bb0b-f635fec15e11",
   "metadata": {},
   "outputs": [
    {
     "data": {
      "image/png": "[encoded data removed]",
      "text/plain": [
       "<Figure size 600x600 with 1 Axes>"
      ]
     },
     "metadata": {},
     "output_type": "display_data"
    }
   ],
   "source": [
    "# Plotting ROC curve for Logistic Regression\n",
    "\n",
    "from sklearn.metrics import roc_curve, auc\n",
    "\n",
    "fpr, tpr, thresholds = roc_curve(y_test, y_prob)\n",
    "\n",
    "roc_auc = auc(fpr, tpr)\n",
    "\n",
    "plt.figure(figsize=(6,6))\n",
    "plt.plot(fpr, tpr, color='blue', lw=2, label=f'LogReg (AUC = {roc_auc:.2f})')\n",
    "plt.plot([0,1], [0,1], color='gray', lw=2, linestyle='--')\n",
    "plt.xlabel('False Positive Rate')\n",
    "plt.ylabel('True Positive Rate (Recall)')\n",
    "plt.title('ROC Curve - Logistic Regression')\n",
    "plt.legend(loc=\"lower right\")\n",
    "plt.show()"
   ]
  },
  {
   "cell_type": "markdown",
   "id": "d4fe6cf1-5a76-4fa5-b9f1-72397a211082",
   "metadata": {},
   "source": [
    "The ROC curve depicted above shows a solid baseline performance from the Logistic Regression model, with an AUC of 0.84"
   ]
  },
  {
   "cell_type": "code",
   "execution_count": 68,
   "id": "90f69783-f153-4d6f-9e7f-67a3924f4214",
   "metadata": {},
   "outputs": [
    {
     "name": "stdout",
     "output_type": "stream",
     "text": [
      "Confusion Matrix:\n",
      " [[827 206]\n",
      " [203 171]]\n",
      "\n",
      "Classification Report:\n",
      "               precision    recall  f1-score   support\n",
      "\n",
      "           0       0.80      0.80      0.80      1033\n",
      "           1       0.45      0.46      0.46       374\n",
      "\n",
      "    accuracy                           0.71      1407\n",
      "   macro avg       0.63      0.63      0.63      1407\n",
      "weighted avg       0.71      0.71      0.71      1407\n",
      "\n",
      "ROC-AUC Score: 0.6291213484425716\n"
     ]
    }
   ],
   "source": [
    "# Moving on to Decision Tree\n",
    "\n",
    "from sklearn.tree import DecisionTreeClassifier\n",
    "\n",
    "dt_clf = DecisionTreeClassifier(random_state=42)\n",
    "dt_clf.fit(X_train, y_train)\n",
    "\n",
    "y_pred_dt = dt_clf.predict(X_test)\n",
    "y_prob_dt = dt_clf.predict_proba(X_test)[:,1]\n",
    "\n",
    "print(\"Confusion Matrix:\\n\", confusion_matrix(y_test, y_pred_dt))\n",
    "print(\"\\nClassification Report:\\n\", classification_report(y_test, y_pred_dt))\n",
    "print(\"ROC-AUC Score:\", roc_auc_score(y_test, y_prob_dt))"
   ]
  },
  {
   "cell_type": "markdown",
   "id": "e5b44433-e523-4f05-890b-dbff9f4e50c5",
   "metadata": {},
   "source": [
    "As gathered from the data, the Decision Tree’s baseline performance is lackluster, especially when it comes to predicting customers who churn. With an accuracy of 71%, it performed noticeably worse than Logistic Regression. However, the real issue lies in its ability (or lack thereof) to accurately predict churn. Precision for these customers is just 45%, while recall is similarly low at 46%. This may be due to the lack of hyperparameter tuning."
   ]
  },
  {
   "cell_type": "code",
   "execution_count": 69,
   "id": "f8fb283f-49fc-4444-b3a0-da232dad6116",
   "metadata": {},
   "outputs": [
    {
     "data": {
      "image/png": "[encoded data removed]",
      "text/plain": [
       "<Figure size 600x600 with 1 Axes>"
      ]
     },
     "metadata": {},
     "output_type": "display_data"
    }
   ],
   "source": [
    "# ROC curve for Decision Tree\n",
    "\n",
    "fpr, tpr, thresholds = roc_curve(y_test, y_prob_dt)\n",
    "roc_auc = auc(fpr, tpr)\n",
    "\n",
    "plt.figure(figsize=(6,6))\n",
    "plt.plot(fpr, tpr, color='green', lw=2, label=f'Decision Tree (AUC = {roc_auc:.2f})')\n",
    "plt.plot([0,1], [0,1], color='gray', lw=2, linestyle='--')\n",
    "plt.xlabel('False Positive Rate')\n",
    "plt.ylabel('True Positive Rate (Recall)')\n",
    "plt.title('ROC Curve - Decision Tree')\n",
    "plt.legend(loc=\"lower right\")\n",
    "plt.show()"
   ]
  },
  {
   "cell_type": "markdown",
   "id": "bd3c2ea9-825a-4367-b2ab-6f61ea1e6305",
   "metadata": {},
   "source": [
    "The curve further demonstrates the poor performance of Decision Tree with an AUC of 0.63. This suggests that the model was only moderately more reliable than a coin toss regarding predicting customer churn."
   ]
  },
  {
   "cell_type": "code",
   "execution_count": 70,
   "id": "6f585d91-8818-4015-9cf1-edaa05e7b34e",
   "metadata": {},
   "outputs": [
    {
     "name": "stdout",
     "output_type": "stream",
     "text": [
      "Confusion Matrix:\n",
      " [[914 119]\n",
      " [192 182]]\n",
      "\n",
      "Classification Report:\n",
      "               precision    recall  f1-score   support\n",
      "\n",
      "           0       0.83      0.88      0.85      1033\n",
      "           1       0.60      0.49      0.54       374\n",
      "\n",
      "    accuracy                           0.78      1407\n",
      "   macro avg       0.72      0.69      0.70      1407\n",
      "weighted avg       0.77      0.78      0.77      1407\n",
      "\n",
      "ROC-AUC Score: 0.810879997515155\n"
     ]
    },
    {
     "data": {
      "image/png": "[encoded data removed]",
      "text/plain": [
       "<Figure size 600x600 with 1 Axes>"
      ]
     },
     "metadata": {},
     "output_type": "display_data"
    }
   ],
   "source": [
    "from sklearn.ensemble import RandomForestClassifier\n",
    "\n",
    "rf_clf = RandomForestClassifier(random_state=42)\n",
    "rf_clf.fit(X_train, y_train)\n",
    "\n",
    "y_pred_rf = rf_clf.predict(X_test)\n",
    "y_prob_rf = rf_clf.predict_proba(X_test)[:,1]\n",
    "\n",
    "print(\"Confusion Matrix:\\n\", confusion_matrix(y_test, y_pred_rf))\n",
    "print(\"\\nClassification Report:\\n\", classification_report(y_test, y_pred_rf))\n",
    "print(\"ROC-AUC Score:\", roc_auc_score(y_test, y_prob_rf))\n",
    "\n",
    "# ROC curve for Random Forest\n",
    "fpr, tpr, thresholds = roc_curve(y_test, y_prob_rf)\n",
    "roc_auc = auc(fpr, tpr)\n",
    "\n",
    "plt.figure(figsize=(6,6))\n",
    "plt.plot(fpr, tpr, color='purple', lw=2, label=f'Random Forest (AUC = {roc_auc:.2f})')\n",
    "plt.plot([0,1], [0,1], color='gray', lw=2, linestyle='--')\n",
    "plt.xlabel('False Positive Rate')\n",
    "plt.ylabel('True Positive Rate (Recall)')\n",
    "plt.title('ROC Curve - Random Forest')\n",
    "plt.legend(loc=\"lower right\")\n",
    "plt.show()\n"
   ]
  },
  {
   "cell_type": "markdown",
   "id": "efd4735b-4f08-4c26-837e-4b6868d92b1f",
   "metadata": {},
   "source": [
    "While not performing quite as well as Logistic Regression, Random Forest achieved an accuracy of 78%, comfortably outperforming the Decision Tree baseline. Like the other models, it performed strongly when predicting customers who did not churn. However, it was noticeably conservative in its churn predictions, with recall dropping to just 49%. Despite this limitation, overall performance remained satisfactory, with an AUC of 0.81."
   ]
  },
  {
   "cell_type": "code",
   "execution_count": 71,
   "id": "7957861e-d7c9-44e7-b60c-8df7085c0603",
   "metadata": {},
   "outputs": [
    {
     "name": "stdout",
     "output_type": "stream",
     "text": [
      "Confusion Matrix:\n",
      " [[891 142]\n",
      " [179 195]]\n",
      "\n",
      "Classification Report:\n",
      "               precision    recall  f1-score   support\n",
      "\n",
      "           0       0.83      0.86      0.85      1033\n",
      "           1       0.58      0.52      0.55       374\n",
      "\n",
      "    accuracy                           0.77      1407\n",
      "   macro avg       0.71      0.69      0.70      1407\n",
      "weighted avg       0.77      0.77      0.77      1407\n",
      "\n",
      "ROC-AUC Score: 0.8109744733940394\n"
     ]
    },
    {
     "data": {
      "image/png": "[encoded data removed]",
      "text/plain": [
       "<Figure size 600x600 with 1 Axes>"
      ]
     },
     "metadata": {},
     "output_type": "display_data"
    }
   ],
   "source": [
    "# Now running XGBoost\n",
    "\n",
    "from xgboost import XGBClassifier\n",
    "\n",
    "xgb_clf = XGBClassifier(use_label_encoder=False, eval_metric='logloss', random_state=42)\n",
    "xgb_clf.fit(X_train, y_train)\n",
    "\n",
    "y_pred_xgb = xgb_clf.predict(X_test)\n",
    "y_prob_xgb = xgb_clf.predict_proba(X_test)[:,1]\n",
    "\n",
    "print(\"Confusion Matrix:\\n\", confusion_matrix(y_test, y_pred_xgb))\n",
    "print(\"\\nClassification Report:\\n\", classification_report(y_test, y_pred_xgb))\n",
    "print(\"ROC-AUC Score:\", roc_auc_score(y_test, y_prob_xgb))\n",
    "\n",
    "# ROC curve for XGB\n",
    "fpr, tpr, thresholds = roc_curve(y_test, y_prob_xgb)\n",
    "roc_auc = auc(fpr, tpr)\n",
    "\n",
    "plt.figure(figsize=(6,6))\n",
    "plt.plot(fpr, tpr, color='red', lw=2, label=f'XGBoost (AUC = {roc_auc:.2f})')\n",
    "plt.plot([0,1], [0,1], color='gray', lw=2, linestyle='--')\n",
    "plt.xlabel('False Positive Rate')\n",
    "plt.ylabel('True Positive Rate (Recall)')\n",
    "plt.title('ROC Curve - XGB')\n",
    "plt.legend(loc=\"lower right\")\n",
    "plt.show()\n"
   ]
  },
  {
   "cell_type": "markdown",
   "id": "326cf3d3-2569-4947-aded-53af8ade02d1",
   "metadata": {},
   "source": [
    "XGBoost performed similarly with Random Forest with numbers just slightly behind. However, it showed a slightly higher customer churn recall (52%). That said, its overall accuracy was slightly lower (77%). The ROC curve was near identical to Random Forest and the AUC was equivalent."
   ]
  },
  {
   "cell_type": "code",
   "execution_count": 72,
   "id": "e56a7fa2-106f-4702-9c3f-1bea2b7717a4",
   "metadata": {},
   "outputs": [
    {
     "name": "stdout",
     "output_type": "stream",
     "text": [
      "Confusion Matrix:\n",
      " [[926 107]\n",
      " [184 190]]\n",
      "\n",
      "Classification Report:\n",
      "               precision    recall  f1-score   support\n",
      "\n",
      "           0       0.83      0.90      0.86      1033\n",
      "           1       0.64      0.51      0.57       374\n",
      "\n",
      "    accuracy                           0.79      1407\n",
      "   macro avg       0.74      0.70      0.72      1407\n",
      "weighted avg       0.78      0.79      0.79      1407\n",
      "\n",
      "ROC-AUC Score: 0.7835363486237583\n"
     ]
    },
    {
     "data": {
      "image/png": "[encoded data removed]",
      "text/plain": [
       "<Figure size 600x600 with 1 Axes>"
      ]
     },
     "metadata": {},
     "output_type": "display_data"
    }
   ],
   "source": [
    "# Support Vector Machine (SVM)\n",
    "\n",
    "from sklearn.svm import SVC\n",
    "\n",
    "svm_clf = SVC(probability=True, random_state=42)  # probability=True so we can get predict_proba for ROC\n",
    "svm_clf.fit(X_train, y_train)\n",
    "\n",
    "y_pred_svm = svm_clf.predict(X_test)\n",
    "y_prob_svm = svm_clf.predict_proba(X_test)[:,1]\n",
    "\n",
    "print(\"Confusion Matrix:\\n\", confusion_matrix(y_test, y_pred_svm))\n",
    "print(\"\\nClassification Report:\\n\", classification_report(y_test, y_pred_svm))\n",
    "print(\"ROC-AUC Score:\", roc_auc_score(y_test, y_prob_svm))\n",
    "\n",
    "# ROC curve for SVM\n",
    "fpr, tpr, thresholds = roc_curve(y_test, y_prob_svm)\n",
    "roc_auc = auc(fpr, tpr)\n",
    "\n",
    "plt.figure(figsize=(6,6))\n",
    "plt.plot(fpr, tpr, color='orange', lw=2, label=f'SVM (AUC = {roc_auc:.2f})')\n",
    "plt.plot([0,1], [0,1], color='gray', lw=2, linestyle='--')\n",
    "plt.xlabel('False Positive Rate')\n",
    "plt.ylabel('True Positive Rate (Recall)')\n",
    "plt.title('ROC Curve - SVM')\n",
    "plt.legend(loc=\"lower right\")\n",
    "plt.show()\n"
   ]
  },
  {
   "cell_type": "markdown",
   "id": "a40bd1cd-2f88-4152-8da8-42190a945adb",
   "metadata": {},
   "source": [
    "The SVM classification report shows respectable performance from the model. It achieved the highest accuracy of any model other than Logistic Regression (79%) and the highest recall among all models for non-churned customers. However, its AUC (0.78) was lower than both Random Forest and XGBoost."
   ]
  },
  {
   "cell_type": "markdown",
   "id": "5ed9cbc2-ab72-4df4-9acd-3cdf1acb0692",
   "metadata": {},
   "source": [
    "After testing five algorithms on the cleaned dataset, I will be tuning Logistic Regression, as it was the highest performing at baseline. I will subsequently tune Random Forest and XGB. "
   ]
  },
  {
   "cell_type": "code",
   "execution_count": 73,
   "id": "67f9b019-c2aa-4f93-a6dc-5ee6c0d16514",
   "metadata": {},
   "outputs": [
    {
     "name": "stdout",
     "output_type": "stream",
     "text": [
      "Best Parameters: {'C': 10, 'class_weight': None, 'penalty': 'l2'}\n",
      "Best Cross-Validation AUC: 0.8456108740191276\n",
      "\n",
      "Confusion Matrix:\n",
      " [[916 117]\n",
      " [161 213]]\n",
      "\n",
      "Classification Report:\n",
      "               precision    recall  f1-score   support\n",
      "\n",
      "           0       0.85      0.89      0.87      1033\n",
      "           1       0.65      0.57      0.61       374\n",
      "\n",
      "    accuracy                           0.80      1407\n",
      "   macro avg       0.75      0.73      0.74      1407\n",
      "weighted avg       0.80      0.80      0.80      1407\n",
      "\n",
      "Test ROC-AUC Score: 0.8371844117388221\n"
     ]
    },
    {
     "data": {
      "image/png": "[encoded data removed]",
      "text/plain": [
       "<Figure size 600x600 with 1 Axes>"
      ]
     },
     "metadata": {},
     "output_type": "display_data"
    }
   ],
   "source": [
    "# Tuning Logistic Regression and retesting it\n",
    "\n",
    "from sklearn.model_selection import GridSearchCV\n",
    "\n",
    "# hyperparameter grid\n",
    "param_grid = {\n",
    "    'C': [0.01, 0.1, 1, 10, 100], \n",
    "    'penalty': ['l1', 'l2'], \n",
    "    'class_weight': [None, 'balanced']\n",
    "}\n",
    "\n",
    "log_reg = LogisticRegression(max_iter=1000, solver='liblinear', random_state=42)\n",
    "\n",
    "grid = GridSearchCV(\n",
    "    estimator=log_reg,\n",
    "    param_grid=param_grid,\n",
    "    cv=5,              \n",
    "    scoring='roc_auc',      \n",
    "    n_jobs=-1               \n",
    ")\n",
    "\n",
    "grid.fit(X_train, y_train)\n",
    "\n",
    "\n",
    "print(\"Best Parameters:\", grid.best_params_)\n",
    "print(\"Best Cross-Validation AUC:\", grid.best_score_)\n",
    "\n",
    "best_log_reg = grid.best_estimator_\n",
    "y_pred_best = best_log_reg.predict(X_test)\n",
    "y_prob_best = best_log_reg.predict_proba(X_test)[:,1]\n",
    "\n",
    "print(\"\\nConfusion Matrix:\\n\", confusion_matrix(y_test, y_pred_best))\n",
    "print(\"\\nClassification Report:\\n\", classification_report(y_test, y_pred_best))\n",
    "print(\"Test ROC-AUC Score:\", roc_auc_score(y_test, y_prob_best))\n",
    "\n",
    "# ROC Curve for best model Logistic Regression\n",
    "fpr, tpr, thresholds = roc_curve(y_test, y_prob_best)\n",
    "roc_auc = auc(fpr, tpr)\n",
    "\n",
    "plt.figure(figsize=(6,6))\n",
    "plt.plot(fpr, tpr, color='blue', lw=2, label=f'Tuned LogReg (AUC = {roc_auc:.2f})')\n",
    "plt.plot([0,1], [0,1], color='gray', lw=2, linestyle='--')\n",
    "plt.xlabel('False Positive Rate')\n",
    "plt.ylabel('True Positive Rate (Recall)')\n",
    "plt.title('ROC Curve - Logistic Regression (Tuned)')\n",
    "plt.legend(loc=\"lower right\")\n",
    "plt.show()\n"
   ]
  },
  {
   "cell_type": "markdown",
   "id": "c278512f-0203-4ed8-96e2-7d487aad0b7e",
   "metadata": {},
   "source": [
    "Logistic Regression, when tuned, showed similar capabilities to its baseline. Its accuracy remained at 80% and its AUC at 0.84, along with similar numbers in recall and precision."
   ]
  },
  {
   "cell_type": "code",
   "execution_count": 74,
   "id": "b2f84db4-92db-483e-b234-a1470f78c4ae",
   "metadata": {},
   "outputs": [
    {
     "name": "stdout",
     "output_type": "stream",
     "text": [
      "Fitting 5 folds for each of 108 candidates, totalling 540 fits\n",
      "Best Parameters: {'class_weight': 'balanced', 'max_depth': 10, 'min_samples_leaf': 4, 'min_samples_split': 10, 'n_estimators': 200}\n",
      "Best Cross-Validation AUC: 0.8458627223918308\n",
      "\n",
      "Confusion Matrix:\n",
      " [[797 236]\n",
      " [ 89 285]]\n",
      "\n",
      "Classification Report:\n",
      "               precision    recall  f1-score   support\n",
      "\n",
      "           0       0.90      0.77      0.83      1033\n",
      "           1       0.55      0.76      0.64       374\n",
      "\n",
      "    accuracy                           0.77      1407\n",
      "   macro avg       0.72      0.77      0.73      1407\n",
      "weighted avg       0.81      0.77      0.78      1407\n",
      "\n",
      "Test ROC-AUC Score: 0.8331180663764229\n"
     ]
    },
    {
     "data": {
      "image/png": "[encoded data removed]",
      "text/plain": [
       "<Figure size 600x600 with 1 Axes>"
      ]
     },
     "metadata": {},
     "output_type": "display_data"
    }
   ],
   "source": [
    "# Tuning Random Forest and retesting it\n",
    "\n",
    "param_grid = {\n",
    "    'n_estimators': [100, 200],  \n",
    "    'max_depth': [None, 10, 20],     \n",
    "    'min_samples_split': [2, 5, 10], \n",
    "    'min_samples_leaf': [1, 2, 4],     \n",
    "    'class_weight': [None, 'balanced']\n",
    "}\n",
    "\n",
    "rf = RandomForestClassifier(random_state=42)\n",
    "\n",
    "grid = GridSearchCV(\n",
    "    estimator=rf,\n",
    "    param_grid=param_grid,\n",
    "    cv=5,\n",
    "    scoring='roc_auc',\n",
    "    n_jobs=-1,\n",
    "    verbose=1\n",
    ")\n",
    "\n",
    "grid.fit(X_train, y_train)\n",
    "\n",
    "print(\"Best Parameters:\", grid.best_params_)\n",
    "print(\"Best Cross-Validation AUC:\", grid.best_score_)\n",
    "\n",
    "# Evaluate on test set\n",
    "best_rf = grid.best_estimator_\n",
    "y_pred_best = best_rf.predict(X_test)\n",
    "y_prob_best = best_rf.predict_proba(X_test)[:,1]\n",
    "\n",
    "print(\"\\nConfusion Matrix:\\n\", confusion_matrix(y_test, y_pred_best))\n",
    "print(\"\\nClassification Report:\\n\", classification_report(y_test, y_pred_best))\n",
    "print(\"Test ROC-AUC Score:\", roc_auc_score(y_test, y_prob_best))\n",
    "\n",
    "# ROC Curve for Random Forest\n",
    "fpr, tpr, thresholds = roc_curve(y_test, y_prob_best)\n",
    "roc_auc = auc(fpr, tpr)\n",
    "\n",
    "plt.figure(figsize=(6,6))\n",
    "plt.plot(fpr, tpr, color='purple', lw=2, label=f'Tuned RF (AUC = {roc_auc:.2f})')\n",
    "plt.plot([0,1], [0,1], color='gray', lw=2, linestyle='--')\n",
    "plt.xlabel('False Positive Rate')\n",
    "plt.ylabel('True Positive Rate (Recall)')\n",
    "plt.title('ROC Curve - Random Forest (Tuned)')\n",
    "plt.legend(loc=\"lower right\")\n",
    "plt.show()\n"
   ]
  },
  {
   "cell_type": "markdown",
   "id": "9036d9e3-ce4d-4559-83b7-f086b3fefab6",
   "metadata": {},
   "source": [
    "As shown, Random Forest performed noticeably better after hyperparameter tuning. Although it dropped in non-churn recall (from 88% to 77%) and slightly in churn recall (from 60% to 55%), it saw a large improvement in churned-customer recall (from 49% to 76%) and a moderate increase in non-churn precision (from 83% to 90%). The AUC also rose from 0.81 to 0.83. Although hyperparameter tuning clearly improved performance, Random Forest still did not outperform Logistic Regression, as its accuracy (77%) and AUC remain lower."
   ]
  },
  {
   "cell_type": "code",
   "execution_count": 75,
   "id": "11deeb8c-b160-4df0-be9f-ce00f2989d7f",
   "metadata": {},
   "outputs": [
    {
     "name": "stdout",
     "output_type": "stream",
     "text": [
      "Fitting 5 folds for each of 25 candidates, totalling 125 fits\n",
      "Best Parameters: {'subsample': 0.8, 'reg_lambda': 5, 'n_estimators': 300, 'max_depth': 3, 'learning_rate': 0.05, 'gamma': 0, 'colsample_bytree': 0.6}\n",
      "Best Cross-Validation AUC: 0.8481500076931174\n",
      "\n",
      "Confusion Matrix:\n",
      " [[919 114]\n",
      " [180 194]]\n",
      "\n",
      "Classification Report:\n",
      "               precision    recall  f1-score   support\n",
      "\n",
      "           0       0.84      0.89      0.86      1033\n",
      "           1       0.63      0.52      0.57       374\n",
      "\n",
      "    accuracy                           0.79      1407\n",
      "   macro avg       0.73      0.70      0.72      1407\n",
      "weighted avg       0.78      0.79      0.78      1407\n",
      "\n",
      "Test ROC-AUC Score: 0.8367417987171986\n"
     ]
    },
    {
     "data": {
      "image/png": "[encoded data removed]",
      "text/plain": [
       "<Figure size 600x600 with 1 Axes>"
      ]
     },
     "metadata": {},
     "output_type": "display_data"
    }
   ],
   "source": [
    "# Tuning XGB and retesting it\n",
    "\n",
    "param_dist = {\n",
    "    'n_estimators': [100, 200, 300],\n",
    "    'max_depth': [3, 5, 7, 10],\n",
    "    'learning_rate': [0.01, 0.05, 0.1, 0.2],\n",
    "    'subsample': [0.6, 0.8, 1.0],\n",
    "    'colsample_bytree': [0.6, 0.8, 1.0],\n",
    "    'gamma': [0, 0.25, 0.5],\n",
    "    'reg_lambda': [1, 5, 10]\n",
    "}\n",
    "\n",
    "xgb = XGBClassifier(use_label_encoder=False, eval_metric='logloss', random_state=42)\n",
    "\n",
    "random_search = RandomizedSearchCV(\n",
    "    estimator=xgb,\n",
    "    param_distributions=param_dist,\n",
    "    n_iter=25,\n",
    "    scoring='roc_auc',\n",
    "    cv=5,\n",
    "    verbose=1,\n",
    "    n_jobs=-1,\n",
    "    random_state=42\n",
    ")\n",
    "\n",
    "random_search.fit(X_train, y_train)\n",
    "\n",
    "print(\"Best Parameters:\", random_search.best_params_)\n",
    "print(\"Best Cross-Validation AUC:\", random_search.best_score_)\n",
    "\n",
    "best_xgb = random_search.best_estimator_\n",
    "y_pred_best = best_xgb.predict(X_test)\n",
    "y_prob_best = best_xgb.predict_proba(X_test)[:,1]\n",
    "\n",
    "print(\"\\nConfusion Matrix:\\n\", confusion_matrix(y_test, y_pred_best))\n",
    "print(\"\\nClassification Report:\\n\", classification_report(y_test, y_pred_best))\n",
    "print(\"Test ROC-AUC Score:\", roc_auc_score(y_test, y_prob_best))\n",
    "\n",
    "# ROC Curve for XGB\n",
    "fpr, tpr, thresholds = roc_curve(y_test, y_prob_best)\n",
    "roc_auc = auc(fpr, tpr)\n",
    "\n",
    "plt.figure(figsize=(6,6))\n",
    "plt.plot(fpr, tpr, color='red', lw=2, label=f'Tuned XGBoost (AUC = {roc_auc:.2f})')\n",
    "plt.plot([0,1], [0,1], color='gray', lw=2, linestyle='--')\n",
    "plt.xlabel('False Positive Rate')\n",
    "plt.ylabel('True Positive Rate (Recall)')\n",
    "plt.title('ROC Curve - XGBoost (Tuned)')\n",
    "plt.legend(loc=\"lower right\")\n",
    "plt.show()\n"
   ]
  },
  {
   "cell_type": "markdown",
   "id": "4b2be185-bd4d-4894-91a7-0317eed42ebd",
   "metadata": {},
   "source": [
    "As seen, XGB’s performance improved significantly after hyperparameter tuning. While there was no major jump in any single metric (as there was in Random Forest’s churn recall), the model showed balanced improvements across nearly all categories. Its accuracy rose from 77% to 79%, and its AUC improved from 0.81 to 0.84, the largest AUC increase observed during tuning. That said, XGB’s performance remained below that of Logistic Regression, which continues to lead in accuracy, recall, precision, and AUC."
   ]
  },
  {
   "cell_type": "markdown",
   "id": "5162bac4-e978-492e-8b8d-0cf808b0705c",
   "metadata": {},
   "source": [
    "-----------"
   ]
  },
  {
   "cell_type": "markdown",
   "id": "7d5ffc35-44db-4078-96bb-8cf541e5a575",
   "metadata": {},
   "source": [
    "## Conclusion"
   ]
  },
  {
   "cell_type": "code",
   "execution_count": 79,
   "id": "436b9737-aa31-4566-bfbc-19e979db7f66",
   "metadata": {},
   "outputs": [
    {
     "data": {
      "text/html": [
       "<div>\n",
       "<style scoped>\n",
       "    .dataframe tbody tr th:only-of-type {\n",
       "        vertical-align: middle;\n",
       "    }\n",
       "\n",
       "    .dataframe tbody tr th {\n",
       "        vertical-align: top;\n",
       "    }\n",
       "\n",
       "    .dataframe thead th {\n",
       "        text-align: right;\n",
       "    }\n",
       "</style>\n",
       "<table border=\"1\" class=\"dataframe\">\n",
       "  <thead>\n",
       "    <tr style=\"text-align: right;\">\n",
       "      <th></th>\n",
       "      <th>Model</th>\n",
       "      <th>Accuracy</th>\n",
       "      <th>AUC</th>\n",
       "      <th>Churn Precision</th>\n",
       "      <th>Churn Recall</th>\n",
       "      <th>Churn F1</th>\n",
       "    </tr>\n",
       "  </thead>\n",
       "  <tbody>\n",
       "    <tr>\n",
       "      <th>0</th>\n",
       "      <td>Logistic Regression (Tuned)</td>\n",
       "      <td>0.80</td>\n",
       "      <td>0.84</td>\n",
       "      <td>0.65</td>\n",
       "      <td>0.57</td>\n",
       "      <td>0.61</td>\n",
       "    </tr>\n",
       "    <tr>\n",
       "      <th>1</th>\n",
       "      <td>Random Forest (Tuned)</td>\n",
       "      <td>0.77</td>\n",
       "      <td>0.83</td>\n",
       "      <td>0.55</td>\n",
       "      <td>0.76</td>\n",
       "      <td>0.64</td>\n",
       "    </tr>\n",
       "    <tr>\n",
       "      <th>2</th>\n",
       "      <td>XGBoost (Tuned)</td>\n",
       "      <td>0.79</td>\n",
       "      <td>0.84</td>\n",
       "      <td>0.63</td>\n",
       "      <td>0.52</td>\n",
       "      <td>0.57</td>\n",
       "    </tr>\n",
       "  </tbody>\n",
       "</table>\n",
       "</div>"
      ],
      "text/plain": [
       "                         Model  Accuracy   AUC  Churn Precision  Churn Recall  \\\n",
       "0  Logistic Regression (Tuned)      0.80  0.84             0.65          0.57   \n",
       "1        Random Forest (Tuned)      0.77  0.83             0.55          0.76   \n",
       "2              XGBoost (Tuned)      0.79  0.84             0.63          0.52   \n",
       "\n",
       "   Churn F1  \n",
       "0      0.61  \n",
       "1      0.64  \n",
       "2      0.57  "
      ]
     },
     "execution_count": 79,
     "metadata": {},
     "output_type": "execute_result"
    }
   ],
   "source": [
    "# Making a table for the final results\n",
    "results = {\n",
    "    \"Model\": [\"Logistic Regression (Tuned)\", \"Random Forest (Tuned)\", \"XGBoost (Tuned)\"],\n",
    "    \"Accuracy\": [0.80, 0.77, 0.79],\n",
    "    \"AUC\": [0.84, 0.83, 0.84],\n",
    "    \"Churn Precision\": [0.65, 0.55, 0.63],\n",
    "    \"Churn Recall\": [0.57, 0.76, 0.52],\n",
    "    \"Churn F1\": [0.61, 0.64, 0.57]\n",
    "}\n",
    "\n",
    "\n",
    "results_df = pd.DataFrame(results)\n",
    "\n",
    "results_df"
   ]
  },
  {
   "cell_type": "code",
   "execution_count": 80,
   "id": "e0101e09-7d77-4901-9388-af66c1ae254c",
   "metadata": {},
   "outputs": [
    {
     "data": {
      "text/html": [
       "<div>\n",
       "<style scoped>\n",
       "    .dataframe tbody tr th:only-of-type {\n",
       "        vertical-align: middle;\n",
       "    }\n",
       "\n",
       "    .dataframe tbody tr th {\n",
       "        vertical-align: top;\n",
       "    }\n",
       "\n",
       "    .dataframe thead th {\n",
       "        text-align: right;\n",
       "    }\n",
       "</style>\n",
       "<table border=\"1\" class=\"dataframe\">\n",
       "  <thead>\n",
       "    <tr style=\"text-align: right;\">\n",
       "      <th></th>\n",
       "      <th>Feature</th>\n",
       "      <th>Coefficient</th>\n",
       "      <th>Abs_Coefficient</th>\n",
       "    </tr>\n",
       "  </thead>\n",
       "  <tbody>\n",
       "    <tr>\n",
       "      <th>4</th>\n",
       "      <td>tenure</td>\n",
       "      <td>-1.387065</td>\n",
       "      <td>1.387065</td>\n",
       "    </tr>\n",
       "    <tr>\n",
       "      <th>5</th>\n",
       "      <td>PhoneService</td>\n",
       "      <td>-1.054933</td>\n",
       "      <td>1.054933</td>\n",
       "    </tr>\n",
       "    <tr>\n",
       "      <th>21</th>\n",
       "      <td>Contract_Two year</td>\n",
       "      <td>-0.842764</td>\n",
       "      <td>0.842764</td>\n",
       "    </tr>\n",
       "    <tr>\n",
       "      <th>8</th>\n",
       "      <td>TotalCharges</td>\n",
       "      <td>0.713625</td>\n",
       "      <td>0.713625</td>\n",
       "    </tr>\n",
       "    <tr>\n",
       "      <th>7</th>\n",
       "      <td>MonthlyCharges</td>\n",
       "      <td>0.678032</td>\n",
       "      <td>0.678032</td>\n",
       "    </tr>\n",
       "    <tr>\n",
       "      <th>19</th>\n",
       "      <td>Contract_Month-to-month</td>\n",
       "      <td>0.580771</td>\n",
       "      <td>0.580771</td>\n",
       "    </tr>\n",
       "    <tr>\n",
       "      <th>10</th>\n",
       "      <td>OnlineSecurity_Yes</td>\n",
       "      <td>-0.389815</td>\n",
       "      <td>0.389815</td>\n",
       "    </tr>\n",
       "    <tr>\n",
       "      <th>16</th>\n",
       "      <td>TechSupport_Yes</td>\n",
       "      <td>-0.372814</td>\n",
       "      <td>0.372814</td>\n",
       "    </tr>\n",
       "    <tr>\n",
       "      <th>6</th>\n",
       "      <td>PaperlessBilling</td>\n",
       "      <td>0.296071</td>\n",
       "      <td>0.296071</td>\n",
       "    </tr>\n",
       "    <tr>\n",
       "      <th>12</th>\n",
       "      <td>OnlineBackup_Yes</td>\n",
       "      <td>-0.267257</td>\n",
       "      <td>0.267257</td>\n",
       "    </tr>\n",
       "  </tbody>\n",
       "</table>\n",
       "</div>"
      ],
      "text/plain": [
       "                    Feature  Coefficient  Abs_Coefficient\n",
       "4                    tenure    -1.387065         1.387065\n",
       "5              PhoneService    -1.054933         1.054933\n",
       "21        Contract_Two year    -0.842764         0.842764\n",
       "8              TotalCharges     0.713625         0.713625\n",
       "7            MonthlyCharges     0.678032         0.678032\n",
       "19  Contract_Month-to-month     0.580771         0.580771\n",
       "10       OnlineSecurity_Yes    -0.389815         0.389815\n",
       "16          TechSupport_Yes    -0.372814         0.372814\n",
       "6          PaperlessBilling     0.296071         0.296071\n",
       "12         OnlineBackup_Yes    -0.267257         0.267257"
      ]
     },
     "execution_count": 80,
     "metadata": {},
     "output_type": "execute_result"
    }
   ],
   "source": [
    "# Determining the most important features in predicting churn for Logistic Regression\n",
    "\n",
    "\n",
    "feature_names = X_train.columns\n",
    "\n",
    "coefs = best_log_reg.coef_[0]\n",
    "\n",
    "logreg_importance = pd.DataFrame({\n",
    "    \"Feature\": feature_names,\n",
    "    \"Coefficient\": coefs,\n",
    "    \"Abs_Coefficient\": np.abs(coefs)\n",
    "}).sort_values(by=\"Abs_Coefficient\", ascending=False)\n",
    "\n",
    "logreg_importance.head(10)\n"
   ]
  },
  {
   "cell_type": "markdown",
   "id": "7f7f7a06-7e6a-4578-9a7c-2dfaf83add7c",
   "metadata": {},
   "source": [
    "The table above lists the top ten features used to predict churn for the logistic regression model. Many of the service add-ons are present in the table, as well as charges and contract types. The three features with the strongest effect on churn were 'tenure', 'PhoneService', and 'Contract_Two year'. Given that the coefficient for 'tenure' is a negative number, we can infer that longer tenure reduces churn odds (that is, the longer someone has been a customer, the lower their likelihood of churning). This is a similar case (albeit with a weaker effect) with 'PhoneService' (having phone service is related to lower churn odds) and 'Contract_Two year' (two-year contracts specifically are related to lower churn odds). These coefficients show that a willingness to stay with the company is associated with certain add-ons and how long the customer has been with the company. Interestingly, however, 'TotalCharges' is related to higher churn odds despite higher tenure being related to lower churn odds. This could be explained by certain customers experiencing what they may perceive as exorbitantly high rates, causing them to part with the company's services."
   ]
  },
  {
   "cell_type": "code",
   "execution_count": 81,
   "id": "e7e743ab-7cec-40b9-af17-381c10f888d1",
   "metadata": {},
   "outputs": [
    {
     "data": {
      "text/html": [
       "<div>\n",
       "<style scoped>\n",
       "    .dataframe tbody tr th:only-of-type {\n",
       "        vertical-align: middle;\n",
       "    }\n",
       "\n",
       "    .dataframe tbody tr th {\n",
       "        vertical-align: top;\n",
       "    }\n",
       "\n",
       "    .dataframe thead th {\n",
       "        text-align: right;\n",
       "    }\n",
       "</style>\n",
       "<table border=\"1\" class=\"dataframe\">\n",
       "  <thead>\n",
       "    <tr style=\"text-align: right;\">\n",
       "      <th></th>\n",
       "      <th>Feature</th>\n",
       "      <th>Importance</th>\n",
       "    </tr>\n",
       "  </thead>\n",
       "  <tbody>\n",
       "    <tr>\n",
       "      <th>19</th>\n",
       "      <td>Contract_Month-to-month</td>\n",
       "      <td>0.143570</td>\n",
       "    </tr>\n",
       "    <tr>\n",
       "      <th>4</th>\n",
       "      <td>tenure</td>\n",
       "      <td>0.136535</td>\n",
       "    </tr>\n",
       "    <tr>\n",
       "      <th>8</th>\n",
       "      <td>TotalCharges</td>\n",
       "      <td>0.107267</td>\n",
       "    </tr>\n",
       "    <tr>\n",
       "      <th>7</th>\n",
       "      <td>MonthlyCharges</td>\n",
       "      <td>0.093408</td>\n",
       "    </tr>\n",
       "    <tr>\n",
       "      <th>9</th>\n",
       "      <td>OnlineSecurity_No</td>\n",
       "      <td>0.081739</td>\n",
       "    </tr>\n",
       "    <tr>\n",
       "      <th>15</th>\n",
       "      <td>TechSupport_No</td>\n",
       "      <td>0.061596</td>\n",
       "    </tr>\n",
       "    <tr>\n",
       "      <th>21</th>\n",
       "      <td>Contract_Two year</td>\n",
       "      <td>0.059861</td>\n",
       "    </tr>\n",
       "    <tr>\n",
       "      <th>27</th>\n",
       "      <td>InternetService_Fiber optic</td>\n",
       "      <td>0.046911</td>\n",
       "    </tr>\n",
       "    <tr>\n",
       "      <th>24</th>\n",
       "      <td>PaymentMethod_Electronic check</td>\n",
       "      <td>0.035138</td>\n",
       "    </tr>\n",
       "    <tr>\n",
       "      <th>20</th>\n",
       "      <td>Contract_One year</td>\n",
       "      <td>0.023509</td>\n",
       "    </tr>\n",
       "  </tbody>\n",
       "</table>\n",
       "</div>"
      ],
      "text/plain": [
       "                           Feature  Importance\n",
       "19         Contract_Month-to-month    0.143570\n",
       "4                           tenure    0.136535\n",
       "8                     TotalCharges    0.107267\n",
       "7                   MonthlyCharges    0.093408\n",
       "9                OnlineSecurity_No    0.081739\n",
       "15                  TechSupport_No    0.061596\n",
       "21               Contract_Two year    0.059861\n",
       "27     InternetService_Fiber optic    0.046911\n",
       "24  PaymentMethod_Electronic check    0.035138\n",
       "20               Contract_One year    0.023509"
      ]
     },
     "execution_count": 81,
     "metadata": {},
     "output_type": "execute_result"
    }
   ],
   "source": [
    "# Determining the most important features in predicting churn for Logistic Regression\n",
    "\n",
    "rf_importance = pd.DataFrame({\n",
    "    \"Feature\": X_train.columns,\n",
    "    \"Importance\": best_rf.feature_importances_\n",
    "}).sort_values(by=\"Importance\", ascending=False)\n",
    "\n",
    "rf_importance.head(10)\n"
   ]
  },
  {
   "cell_type": "markdown",
   "id": "2e579b24-4a43-43e8-9aad-6745a06e3734",
   "metadata": {},
   "source": [
    "The table above lists the top ten features most important in Random Forest’s training and testing. Unlike the Logistic Regression model, this table does not contain coefficients, nor does it provide insight into the strength of any one feature’s effect on churn odds. However, it does indicate the relative importance of each feature in the model's predictions. The three most important features in this regard were 'Contract_Month-to-month', 'tenure', and 'TotalCharges'. 'Contract_Month-to-month' is the most important feature used by Random Forest in its predictions. Though that feature is important, it is interesting that it ranked so high on the list. According to the Logistic Regression table, it is the sixth most important feature in predicting churn. 'tenure' is second on the list, which was expected given its prominence in the Logistic Regression model. 'TotalCharges' placed third, which was another predictable outcome. 'Contract_Two year' was seventh on the list, a stark contrast to its third-place ranking on the Logistic Regression model's coefficient table. This could be explained by the fact that there were more than double the number of month-to-month contracts in the dataset compared to two-year contracts (see value counts below)."
   ]
  },
  {
   "cell_type": "code",
   "execution_count": 83,
   "id": "8cb2bb46-36fe-451f-83bb-7271f6e522ea",
   "metadata": {},
   "outputs": [
    {
     "name": "stdout",
     "output_type": "stream",
     "text": [
      "Contract_Two year\n",
      "0    5347\n",
      "1    1685\n",
      "Name: count, dtype: int64\n",
      "Contract_Month-to-month\n",
      "1    3875\n",
      "0    3157\n",
      "Name: count, dtype: int64\n"
     ]
    }
   ],
   "source": [
    "print(clone_df['Contract_Two year'].value_counts())\n",
    "\n",
    "print(clone_df['Contract_Month-to-month'].value_counts())"
   ]
  },
  {
   "cell_type": "code",
   "execution_count": 84,
   "id": "1f44652e-6cb2-4041-8d20-a504de64f46c",
   "metadata": {},
   "outputs": [
    {
     "data": {
      "text/html": [
       "<div>\n",
       "<style scoped>\n",
       "    .dataframe tbody tr th:only-of-type {\n",
       "        vertical-align: middle;\n",
       "    }\n",
       "\n",
       "    .dataframe tbody tr th {\n",
       "        vertical-align: top;\n",
       "    }\n",
       "\n",
       "    .dataframe thead th {\n",
       "        text-align: right;\n",
       "    }\n",
       "</style>\n",
       "<table border=\"1\" class=\"dataframe\">\n",
       "  <thead>\n",
       "    <tr style=\"text-align: right;\">\n",
       "      <th></th>\n",
       "      <th>Feature</th>\n",
       "      <th>Importance</th>\n",
       "    </tr>\n",
       "  </thead>\n",
       "  <tbody>\n",
       "    <tr>\n",
       "      <th>19</th>\n",
       "      <td>Contract_Month-to-month</td>\n",
       "      <td>0.325469</td>\n",
       "    </tr>\n",
       "    <tr>\n",
       "      <th>9</th>\n",
       "      <td>OnlineSecurity_No</td>\n",
       "      <td>0.112581</td>\n",
       "    </tr>\n",
       "    <tr>\n",
       "      <th>15</th>\n",
       "      <td>TechSupport_No</td>\n",
       "      <td>0.110239</td>\n",
       "    </tr>\n",
       "    <tr>\n",
       "      <th>27</th>\n",
       "      <td>InternetService_Fiber optic</td>\n",
       "      <td>0.069127</td>\n",
       "    </tr>\n",
       "    <tr>\n",
       "      <th>21</th>\n",
       "      <td>Contract_Two year</td>\n",
       "      <td>0.053567</td>\n",
       "    </tr>\n",
       "    <tr>\n",
       "      <th>26</th>\n",
       "      <td>InternetService_DSL</td>\n",
       "      <td>0.043606</td>\n",
       "    </tr>\n",
       "    <tr>\n",
       "      <th>24</th>\n",
       "      <td>PaymentMethod_Electronic check</td>\n",
       "      <td>0.028517</td>\n",
       "    </tr>\n",
       "    <tr>\n",
       "      <th>4</th>\n",
       "      <td>tenure</td>\n",
       "      <td>0.024154</td>\n",
       "    </tr>\n",
       "    <tr>\n",
       "      <th>18</th>\n",
       "      <td>StreamingTV_Yes</td>\n",
       "      <td>0.021736</td>\n",
       "    </tr>\n",
       "    <tr>\n",
       "      <th>20</th>\n",
       "      <td>Contract_One year</td>\n",
       "      <td>0.020690</td>\n",
       "    </tr>\n",
       "  </tbody>\n",
       "</table>\n",
       "</div>"
      ],
      "text/plain": [
       "                           Feature  Importance\n",
       "19         Contract_Month-to-month    0.325469\n",
       "9                OnlineSecurity_No    0.112581\n",
       "15                  TechSupport_No    0.110239\n",
       "27     InternetService_Fiber optic    0.069127\n",
       "21               Contract_Two year    0.053567\n",
       "26             InternetService_DSL    0.043606\n",
       "24  PaymentMethod_Electronic check    0.028517\n",
       "4                           tenure    0.024154\n",
       "18                 StreamingTV_Yes    0.021736\n",
       "20               Contract_One year    0.020690"
      ]
     },
     "execution_count": 84,
     "metadata": {},
     "output_type": "execute_result"
    }
   ],
   "source": [
    "# Determining the most important features in predicting churn for XGB\n",
    "\n",
    "xgb_importance = pd.DataFrame({\n",
    "    \"Feature\": X_train.columns,\n",
    "    \"Importance\": best_xgb.feature_importances_\n",
    "}).sort_values(by=\"Importance\", ascending=False)\n",
    "\n",
    "xgb_importance.head(10)\n"
   ]
  },
  {
   "cell_type": "markdown",
   "id": "de857851-3c6d-42b1-a2c9-058a8fe08361",
   "metadata": {},
   "source": [
    "The table above lists the top ten features most important in XGBoost's training and testing. Aside from its most important feature used in modeling ('Contract_Month-to-month'), its other top features deviate quite dramatically. The second, third, and fourth most important features are all associated with add-ons rather than contracts, tenure, or charges. These feature importance results differ significantly not only from Random Forest's results but also from Logistic Regression's. 'tenure', the top coefficient in the Logistic Regression table and second in the Random Forest table, ranks only eighth in XGBoost's table. This suggests that it was less influential in XGBoost’s modeling (even less so than the unexpected feature 'PaymentMethod_Electronic check'), which was unforeseen.\n",
    "\n",
    "That said, 'Contract_Month-to-month' was not only the most important feature but stood far above the rest, with an importance value of 0.325, well ahead of even second place ('OnlineSecurity_No'). This indicates that the feature was extremely influential in the model's predictions. Another interesting observation is that 'Contract_One year' appeared in the top ten for feature importance, despite not being present in either of the other tables. It is clear that XGBoost leveraged its features differently from both Random Forest and Logistic Regression."
   ]
  },
  {
   "cell_type": "markdown",
   "id": "d2bc58b8-0b86-4904-91cb-8af017ab854f",
   "metadata": {},
   "source": [
    "Looking at the three feature importance tables for each model, it is immediately clear that 'tenure' is one of the most important features, along with 'Contract_Month-to-month'. That said, all three tables support the idea that contracts, tenure, and add-ons are important factors for all models when predicting churn. Charges, though important to Random Forest and Logistic Regression, did not appear in the top ten most important features for XGBoost, which was another unexpected observation. Although each model achieved relatively similar performance, their methods differed. Despite this, they all provided meaningful insight into the dataset."
   ]
  },
  {
   "cell_type": "markdown",
   "id": "09700545-ce2f-4454-acd4-70c02c59b6bd",
   "metadata": {},
   "source": [
    "---------"
   ]
  },
  {
   "cell_type": "markdown",
   "id": "53019c41-1a87-400c-a486-50a2c744e596",
   "metadata": {},
   "source": [
    "## Conclusion"
   ]
  },
  {
   "cell_type": "markdown",
   "id": "d6518b68-a4c1-4f84-b9e4-db0fa8f63965",
   "metadata": {},
   "source": [
    "The Logistic Regression model had the best performance and was shown to be the best at determining whether a customer would churn or not. That said, Random Forest was the best at catching churn (though it was also more inaccurate, meaning it was more liberal in its prediction of churn). Overall, Logistic Regression performed the best, with XGB a close second.\n",
    "\n",
    "Looking deeper into the results, a customer's likelihood of parting ways with the company is highly dependent on how long they have been with the company, their contract type, their add-ons (specifically whether they have phone service or not), and how much they are paying for the company's services.\n",
    "\n",
    "Although tenure is a prominent factor in predicting customer churn, it may not prove very useful in preventing churn, as it seems to be redundant and not actionable. When assessing churn, it is best to look at contract type, customer charges, and their add-ons, specifically whether they have phone services in their plan or not. Predictably, customers who are charged more have a higher likelihood to churn. Customers on monthly contracts are more likely to churn as well (as opposed to customers with one-year or two-year contracts). Finally, more add-ons to a customer's service are related to lower odds of churning, the most prominent add-on in this regard being phone service.\n",
    "\n",
    "Churn can possibly be deterred or mitigated by pushing phone service. Additional add-ons can be emphasized as well, but phone service is the most important in most cases. Two-year contracts should be incentivized, for example, bundling an add-on such as phone service with a discounted charge if a customer opts for the contract. Overall, exploring ways to push phone service and longer contracts at discounted or lower prices may lead to lower customer churn within the company.\n",
    "\n",
    "In summary: Logistic Regression was the best overall model for predicting churn, with Random Forest strongest at catching churners. Contract type, tenure, charges, and add-ons consistently drove churn risk. Customers on month-to-month contracts with higher charges and fewer add-ons are most at risk. Retention strategies should focus on incentivizing longer contracts, bundling add-ons like phone service, and providing cost relief for high-charge customers."
   ]
  },
  {
   "cell_type": "code",
   "execution_count": null,
   "id": "78ba74de-9282-4414-910b-cb18a8b625f9",
   "metadata": {},
   "outputs": [],
   "source": []
  },
  {
   "cell_type": "code",
   "execution_count": null,
   "id": "11dc531d-df8a-4d13-a3d0-87ae5d5407a2",
   "metadata": {},
   "outputs": [],
   "source": []
  }
 ],
 "metadata": {
  "kernelspec": {
   "display_name": "Python 3 (ipykernel)",
   "language": "python",
   "name": "python3"
  },
  "language_info": {
   "codemirror_mode": {
    "name": "ipython",
    "version": 3
   },
   "file_extension": ".py",
   "mimetype": "text/x-python",
   "name": "python",
   "nbconvert_exporter": "python",
   "pygments_lexer": "ipython3",
   "version": "3.11.9"
  }
 },
 "nbformat": 4,
 "nbformat_minor": 5
}
